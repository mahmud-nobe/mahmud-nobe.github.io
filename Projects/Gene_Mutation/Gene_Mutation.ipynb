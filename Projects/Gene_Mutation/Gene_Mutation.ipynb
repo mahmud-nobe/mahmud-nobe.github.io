{
 "cells": [
  {
   "cell_type": "markdown",
   "metadata": {
    "colab_type": "text",
    "deletable": false,
    "editable": false,
    "id": "B6SLM2WnoviN",
    "nbgrader": {
     "cell_type": "markdown",
     "checksum": "a46f42bc9b10554a85434134a4f5d417",
     "grade": false,
     "grade_id": "cell-3258a102d560141a",
     "locked": true,
     "schema_version": 3,
     "solution": false,
     "task": false
    }
   },
   "source": [
    "\n",
    "# Gene Mutation\n",
    "## Decoding relationships between genes\n",
    "\n",
    "\n",
    "## Overview\n",
    "Gene Mutation is a prevailing and computationally intensive research topic in Genetics. For this assignment, assume that you have been hired by a biotechnology company to work on a gene mutation research project, and your first task is to write a Python program to investigate a genealogical mutation sequencing.\n",
    "\n",
    "\n",
    "In this program, a gene is described by a string of letters, with a letter being chosen from the set ${A, C, G, T}$. A mutation is relatively rare but it can occur in which there is a small probability of either inserting a new character, deleting an existing character, or changing to a new character randomly. We can refer to these probabilities by $p_i, p_d$, and $p_c$, respectively.\n",
    "\n",
    "\n",
    "Now, suppose the starting point is a given string that undergoes a mutation process. This mutation created two other strings, the child strings of the first string. Each of these two new strings can undergo mutations by which they will change from their parent. In turn, the two-child strings, mutate and create 2 new substrings each, resulting in four grandchild strings from the original gene sequencing string. We can easily visualize the sequence of mutations if we were to draw a genealogy binary tree relating strings to their parent and grandparent strings.\n",
    "\n",
    "As a result of these mutations, we now have 7 strings but unfortunately, the order of the strings has been lost due to a glitch in the gene sequencing generation program. Therefore, your first task in the project is to recover the genealogy tree for the following set of 7 strings labelled with lowercase letters:\n",
    "``` python\n",
    "('a', 'AGTTATGTGTCAGAGCAAAAGATTCCTCATCTAGCGGTCGCAAGTCATTGCC'),\n",
    "('b', 'AAGTTATTTGCTCACAGGGAACGAATCCAGCTCTGCGGTCGAGGCCACATTGCC'),\n",
    "('c', 'AGTTATTTTCAGAGAAATGATTCCTTCTCACCGGTCGAGCCAGTGCC'),\n",
    "('d', 'AGTTTATGTGTCAGAAGCAAAAGATTACTAATCTACGCGTCGCAAGGTCTATTCC'),\n",
    "('e', 'ACAGCTTATATAGCTCATAGGGAGCGAAATCCAGCCCCGCGGTGCGAGGCCCCTTGTCGC'),\n",
    "('f', 'AAGTATATGGCACGAGGGAACAGTATCAGCTCTTCGGATAAAGGCCACAGTGCC'),\n",
    "('g', 'AGTTATGTGTCACAGGCAAAAGATCCTTCTCTGCGGTCGAACCCATTGCC')\n",
    "```\n",
    "\n",
    "\n",
    "Henceforth, the set of strings created with the gene-sequencing generation program will be referred to as `Set_Strings`.\n"
   ]
  },
  {
   "cell_type": "markdown",
   "metadata": {
    "colab_type": "text",
    "deletable": false,
    "editable": false,
    "id": "R3pP2_nfoviV",
    "nbgrader": {
     "cell_type": "markdown",
     "checksum": "d5523b0920f3e7a3d04257989e7e3680",
     "grade": false,
     "grade_id": "cell-60d7379c25ef5472",
     "locked": true,
     "schema_version": 3,
     "solution": false,
     "task": false
    }
   },
   "source": [
    "\n",
    "## Longest Common Subsequence (LCS)\n",
    "\n",
    "Write Python code which, given any two arbitrary strings, outputs the length of the Longest Common Subsequence (LCS) for those two strings. Make sure to include a number of test cases that demonstrate that your code is correct."
   ]
  },
  {
   "cell_type": "code",
   "execution_count": 2,
   "metadata": {
    "colab": {},
    "colab_type": "code",
    "deletable": false,
    "id": "lSZ6ey0IoviW",
    "nbgrader": {
     "cell_type": "code",
     "checksum": "ce99a7ecdf730683add061c1c36c204d",
     "grade": false,
     "grade_id": "cell-63d0dc281b5784e0",
     "locked": false,
     "schema_version": 3,
     "solution": true,
     "task": false
    }
   },
   "outputs": [],
   "source": [
    "import numpy as np\n",
    "def longest_common_subsequence(x, y):\n",
    "    \"\"\"\n",
    "    Gives the length of the longest common substring between strings x and y\n",
    "    \n",
    "    Inputs:\n",
    "    - x, y: strings\n",
    "    \"\"\"\n",
    "    \n",
    "    # list for lengths of LCS\n",
    "    # c[i,j] store the length of LCS between x[:i] and y[:j] \n",
    "    c = np.zeros((len(x), len(y)))\n",
    "    \n",
    "    # if any string is empty, lcs length 0\n",
    "    if(len(x) == 0 or len(y) == 0):\n",
    "        return 0\n",
    "    \n",
    "    # for every letters in the string x,\n",
    "    # check with every letter in string y\n",
    "    for i in range(len(x)):\n",
    "        for j in range(len(y)):\n",
    "            # if the letters are same, lcs length increase by 1 \n",
    "            # from the lcs length of x[:i-1] and y[:i-1]\n",
    "            if x[i] == y[j]:\n",
    "                if(i == 0  or j == 0):\n",
    "                    c[i,j] = 1\n",
    "                else:\n",
    "                    c[i,j] = c[i-1, j-1] + 1\n",
    "            \n",
    "            # if not same, then the lcs length is the maximum\n",
    "            # value between the upper value or left-side value of the table\n",
    "            elif (c[i-1, j] >= c[i,j-1]):\n",
    "                c[i,j] = c[i-1, j]\n",
    "            else:\n",
    "                c[i,j] = c[i, j-1]\n",
    "    \n",
    "    # the last cell, last row gives the lcs length for full x and y \n",
    "    return int(c[-1,-1])\n",
    "    \n",
    "    # raise NotImplementedError()"
   ]
  },
  {
   "cell_type": "code",
   "execution_count": 3,
   "metadata": {},
   "outputs": [
    {
     "name": "stdout",
     "output_type": "stream",
     "text": [
      "40\n"
     ]
    }
   ],
   "source": [
    "a = 'AGTTATGTGTCAGAGCAAAAGATTCCTCATCTAGCGGTCGCAAGTCATTGCC'\n",
    "b = 'AAGTTATTTGCTCACAGGGAACGAATCCAGCTCTGCGGTCGAGGCCACATTGCC'\n",
    "\n",
    "print(longest_common_subsequence(a,b))\n"
   ]
  },
  {
   "cell_type": "code",
   "execution_count": 4,
   "metadata": {
    "colab": {},
    "colab_type": "code",
    "deletable": false,
    "editable": false,
    "id": "9tTw_XdWovib",
    "nbgrader": {
     "cell_type": "code",
     "checksum": "2591791f0c3b520a96f6977e5da32368",
     "grade": true,
     "grade_id": "cell-329d830ec2e7ebb5",
     "locked": true,
     "points": 1,
     "schema_version": 3,
     "solution": false,
     "task": false
    }
   },
   "outputs": [],
   "source": [
    "assert longest_common_subsequence('ABCBDAB', 'BDCABA')==4\n",
    "assert longest_common_subsequence('abc', '') == 0\n",
    "assert longest_common_subsequence('abc', 'a') == 1\n",
    "assert longest_common_subsequence('abc', 'ac') == 2"
   ]
  },
  {
   "cell_type": "markdown",
   "metadata": {
    "colab_type": "text",
    "deletable": false,
    "editable": false,
    "id": "u5f58FA-ovii",
    "nbgrader": {
     "cell_type": "markdown",
     "checksum": "c53beb45d361de2cd1900b5864cd5d57",
     "grade": false,
     "grade_id": "cell-512b0f43ce6a1d6f",
     "locked": true,
     "schema_version": 3,
     "solution": false,
     "task": false
    }
   },
   "source": [
    "## Pair-wise LCS\n",
    "\n",
    "How many LCSs are there in Set_Strings? Generate the matrix of the lengths of the LCS for every pair of strings in Set_Strings. Make sure that your matrix obeys the following properties:\n",
    "1. The matrix should be cast as a two-dimensional numpy array.  **Store this 2D numpy array to a variable named `C`**.\n",
    "\n",
    "2. Your 2D array `C` should have dimension (7,7) and `C[i,j]` should give the length of the LCS for the $i-$th and $j-$th strings. For example, `C[0,3]` gives the length of the LCS for string `a` and string `d`."
   ]
  },
  {
   "cell_type": "code",
   "execution_count": 5,
   "metadata": {},
   "outputs": [],
   "source": [
    "a = 'AGTTATGTGTCAGAGCAAAAGATTCCTCATCTAGCGGTCGCAAGTCATTGCC'\n",
    "b = 'AAGTTATTTGCTCACAGGGAACGAATCCAGCTCTGCGGTCGAGGCCACATTGCC'\n",
    "c = 'AGTTATTTTCAGAGAAATGATTCCTTCTCACCGGTCGAGCCAGTGCC'\n",
    "d = 'AGTTTATGTGTCAGAAGCAAAAGATTACTAATCTACGCGTCGCAAGGTCTATTCC'\n",
    "e = 'ACAGCTTATATAGCTCATAGGGAGCGAAATCCAGCCCCGCGGTGCGAGGCCCCTTGTCGC'\n",
    "f = 'AAGTATATGGCACGAGGGAACAGTATCAGCTCTTCGGATAAAGGCCACAGTGCC'\n",
    "g = 'AGTTATGTGTCACAGGCAAAAGATCCTTCTCTGCGGTCGAACCCATTGCC'\n",
    "\n",
    "set_string = [a,b,c,d,e,f,g]"
   ]
  },
  {
   "cell_type": "code",
   "execution_count": 6,
   "metadata": {},
   "outputs": [
    {
     "name": "stdout",
     "output_type": "stream",
     "text": [
      "[[52 40 41 48 39 38 45]\n",
      " [40 54 38 38 47 44 43]\n",
      " [41 38 47 39 36 36 39]\n",
      " [48 38 39 55 38 37 42]\n",
      " [39 47 36 38 60 39 40]\n",
      " [38 44 36 37 39 54 40]\n",
      " [45 43 39 42 40 40 50]]\n"
     ]
    }
   ],
   "source": [
    "# number if gene\n",
    "n_gene = len(set_string)\n",
    "\n",
    "# initialize the lcs_matrix with 0\n",
    "C = np.zeros((n_gene, n_gene), dtype = int)\n",
    "\n",
    "for i in range(n_gene):\n",
    "    \n",
    "    # if the two pairs are same, lcs is simply the length of the string\n",
    "    C[i,i] = len(set_string[i])\n",
    "    \n",
    "    \n",
    "    # (x,y) and (y,x) are same pair, so no need to calculate \n",
    "    # every element. As the matrix will be symmetric we will calculate only the \n",
    "    # upper diagonal (i.e. range(i+1, n_gene)) and complete the lower diagonal accordingly\n",
    "    for j in range(i+1, n_gene):\n",
    "        \n",
    "        #calculate and store the lcs length\n",
    "        C[i,j]  = longest_common_subsequence(set_string[i],set_string[j])\n",
    "        C[j,i] = C[i,j]\n",
    "\n",
    "print(C)"
   ]
  },
  {
   "cell_type": "code",
   "execution_count": 7,
   "metadata": {
    "colab": {},
    "colab_type": "code",
    "deletable": false,
    "id": "ZASMhbR-ovij",
    "nbgrader": {
     "cell_type": "code",
     "checksum": "337eeb3a5a408c7bc5e1cf3d22a76d23",
     "grade": false,
     "grade_id": "cell-c9ffd6de81af5096",
     "locked": false,
     "schema_version": 3,
     "solution": true,
     "task": false
    }
   },
   "outputs": [
    {
     "name": "stdout",
     "output_type": "stream",
     "text": [
      "48\n",
      "48\n"
     ]
    }
   ],
   "source": [
    "# testing\n",
    "\n",
    "print(longest_common_subsequence(a,d))\n",
    "print(C[0,3])"
   ]
  },
  {
   "cell_type": "markdown",
   "metadata": {
    "colab_type": "text",
    "deletable": false,
    "editable": false,
    "id": "OQy4VHGDoviu",
    "nbgrader": {
     "cell_type": "markdown",
     "checksum": "3bbd6e8a5d852311240839a178188483",
     "grade": false,
     "grade_id": "cell-e598c2cb440302ad",
     "locked": true,
     "schema_version": 3,
     "solution": false,
     "task": false
    }
   },
   "source": [
    "## Genealogical Relationships\n",
    "\n",
    "Manually examine the matrix you obtained above, and infer the genealogical relationships between strings (i.e., explicitly identify the great-grandparent, grandparent, parent and child strings) using **at least** two strategies: one that  is **local** and another that is **global**. A local strategy infers the location of a particular string in the tree based on a property (of your choice) of the node itself. A global strategy infers the whole tree based on a metric obtained by considering all the relationships involved in that tree at once. You may need to research what a good metric could be to describe global relationships (i.e., beyond what was discussed in class). \n",
    "\n",
    "After describing and implementing your strategies, draw the resulting genealogy binary tree(s) associated with Set_Strings resulting from each strategy. Comment on whether the results are expected to be the same or different and provide a concise explanation for these results. "
   ]
  },
  {
   "cell_type": "markdown",
   "metadata": {},
   "source": [
    "#### Local Strategy 1\n",
    "\n",
    "For this strategy, our assumptions and thought processes are the following:\n",
    "\n",
    "- Every child-parent gene pair has the higher shared letters then any other pairs (i.e. grandparent-grandchild or uncle-niece or sibling)\n",
    "- As every leave nodes has one parent and no children, they will have one stronger connection and all other weak connection\n",
    "- As the root node has two child and no parent, it has two stronger connection\n",
    "- The other nodes have one parent and 2 children, so total three stronger connection\n",
    "\n",
    "$\\therefore$ If we take the average of the 3 best connection of each node, the average will be highest for the middle level nodes (here, the parent nodes) and it will be lowest for the leave nodes (here, the child nodes) and root node (the grandparent) will be in the middle."
   ]
  },
  {
   "cell_type": "markdown",
   "metadata": {},
   "source": [
    "##### Implementation:\n",
    "\n",
    "1. Create the LCS length matrix, C for all the nodes \n",
    "2. As the lengths of the different pairs vary, more useful metric will be to use the ratio of the LCS length and the average length of the pairs. We can divide each LCS length by the average length of the corresponding pair to get the relative length.\n",
    "3. For a single node, we will sort the relative length of the LCS with all other nodes in descending order (i.e. sort a row in the matrix C).\n",
    "4. The first one should be 1, when we compare the node with itself. So we will take the next three relative length and take their average.\n",
    "5. If this average of string $i$ is higher then string $j$, then string $i$ is more likely to be a 'parent' and string $j$ is more likely to be a 'child':\n",
    "    - The lowest 4 strings will be 4 children\n",
    "    - The highest 2 strings will be 2 parents\n",
    "    - The remaining one will be the grandparent (root node)"
   ]
  },
  {
   "cell_type": "code",
   "execution_count": 9,
   "metadata": {},
   "outputs": [
    {
     "data": {
      "text/plain": [
       "array([[52, 40, 41, 48, 39, 38, 45],\n",
       "       [40, 54, 38, 38, 47, 44, 43],\n",
       "       [41, 38, 47, 39, 36, 36, 39],\n",
       "       [48, 38, 39, 55, 38, 37, 42],\n",
       "       [39, 47, 36, 38, 60, 39, 40],\n",
       "       [38, 44, 36, 37, 39, 54, 40],\n",
       "       [45, 43, 39, 42, 40, 40, 50]])"
      ]
     },
     "execution_count": 9,
     "metadata": {},
     "output_type": "execute_result"
    }
   ],
   "source": [
    "## lcs length matrix\n",
    "C"
   ]
  },
  {
   "cell_type": "code",
   "execution_count": 10,
   "metadata": {
    "colab": {},
    "colab_type": "code",
    "deletable": false,
    "id": "68MT9k-Qoviw",
    "nbgrader": {
     "cell_type": "code",
     "checksum": "95ce8cd90fba7227085c13c6596dccbf",
     "grade": true,
     "grade_id": "cell-f821d1fa1b4c8508",
     "locked": false,
     "points": 0,
     "schema_version": 3,
     "solution": true,
     "task": false
    },
    "scrolled": false
   },
   "outputs": [
    {
     "name": "stdout",
     "output_type": "stream",
     "text": [
      "[[1.   0.75 0.83 0.9  0.7  0.72 0.88]\n",
      " [0.75 1.   0.75 0.7  0.82 0.81 0.83]\n",
      " [0.83 0.75 1.   0.76 0.67 0.71 0.8 ]\n",
      " [0.9  0.7  0.76 1.   0.66 0.68 0.8 ]\n",
      " [0.7  0.82 0.67 0.66 1.   0.68 0.73]\n",
      " [0.72 0.81 0.71 0.68 0.68 1.   0.77]\n",
      " [0.88 0.83 0.8  0.8  0.73 0.77 1.  ]]\n"
     ]
    }
   ],
   "source": [
    "## making the relative gene length matrix\n",
    "\n",
    "# initialize with 0\n",
    "relative_gene_matrix = np.zeros((n_gene, n_gene))\n",
    "\n",
    "\n",
    "for i in range(n_gene):\n",
    "    \n",
    "    # the diagonals are always 1 as both are the same pair\n",
    "    relative_gene_matrix[i,i] = 1\n",
    "    \n",
    "    # only calculate the upper diagonal and complete the lower\n",
    "    # diagonal accordingly\n",
    "    for j in range(i+1, n_gene):\n",
    "        \n",
    "        # realative length = LCS length/ mean string length\n",
    "        mean = np.mean((C[i,i], C[j,j]))\n",
    "        relative_gene_matrix[i,j] = (C[i,j]/mean).round(2)\n",
    "        relative_gene_matrix[j,i] = relative_gene_matrix[i,j]\n",
    "\n",
    "print(relative_gene_matrix)"
   ]
  },
  {
   "cell_type": "code",
   "execution_count": 11,
   "metadata": {},
   "outputs": [
    {
     "data": {
      "text/plain": [
       "<Figure size 640x480 with 2 Axes>"
      ]
     },
     "metadata": {},
     "output_type": "display_data"
    }
   ],
   "source": [
    "# visualization\n",
    "import matplotlib.pyplot as plt\n",
    "import seaborn as sns\n",
    "\n",
    "heatmap = sns.heatmap(relative_gene_matrix, annot = True, cmap = 'Reds')\n",
    "heatmap.xaxis.set_ticks_position('top')\n",
    "plt.title('Relative LCS Length')\n",
    "plt.show()"
   ]
  },
  {
   "cell_type": "code",
   "execution_count": 12,
   "metadata": {},
   "outputs": [
    {
     "data": {
      "image/png": "[encoded data removed]",
      "text/plain": [
       "<Figure size 432x288 with 2 Axes>"
      ]
     },
     "metadata": {
      "needs_background": "light"
     },
     "output_type": "display_data"
    }
   ],
   "source": [
    "## sorting every rows and take mean \n",
    "    \n",
    "sorted_relative_len = [sorted(relative_gene_matrix[i], reverse = True) for i in range(n_gene)]\n",
    "\n",
    "heatmap = sns.heatmap(sorted_relative_len, annot = True, cmap = 'Reds')\n",
    "plt.xticks([])\n",
    "plt.title('Sorted Relative LCS Length')\n",
    "plt.show()\n",
    "\n",
    "             "
   ]
  },
  {
   "cell_type": "code",
   "execution_count": 13,
   "metadata": {},
   "outputs": [
    {
     "name": "stdout",
     "output_type": "stream",
     "text": [
      "String 0: Best three avg: 0.87\n",
      "String 1: Best three avg: 0.82\n",
      "String 2: Best three avg: 0.8\n",
      "String 3: Best three avg: 0.82\n",
      "String 4: Best three avg: 0.75\n",
      "String 5: Best three avg: 0.77\n",
      "String 6: Best three avg: 0.84\n",
      "\n",
      "Strings sorted by their best-three-average: \n",
      "[0 6 1 3 2 5 4]\n"
     ]
    }
   ],
   "source": [
    "# as the first pair is simply consists of the same node,\n",
    "# the best connections are the 2nd, 3rd and 4th connection \n",
    "# in the sorted row\n",
    "\n",
    "\n",
    "best_three_avg = np.zeros(n_gene)\n",
    "\n",
    "for i in range(n_gene):\n",
    "    best_three_avg[i] = np.mean(sorted_relative_len[i][1:4])\n",
    "    print('String {}: Best three avg: {}'.format(i, best_three_avg[i].round(2)))\n",
    "\n",
    "print(\"\\nStrings sorted by their best-three-average: \\n{}\".format(np.argsort(-1*best_three_avg)))"
   ]
  },
  {
   "cell_type": "markdown",
   "metadata": {},
   "source": [
    "**Result**\n",
    "\n",
    "- The highest 2 Strings are the **parent** Strings:\n",
    "    * String 0\n",
    "    * String 6\n",
    "- The next one is the **grandparent** String:\n",
    "    * String 1\n",
    "- The lowest 4 Strings are the **child** Strings:\n",
    "    * String 3\n",
    "    * String 2\n",
    "    * String 5\n",
    "    * String 4"
   ]
  },
  {
   "cell_type": "code",
   "execution_count": 1,
   "metadata": {},
   "outputs": [],
   "source": [
    "# !pip install binarytree\n"
   ]
  },
  {
   "cell_type": "code",
   "execution_count": 15,
   "metadata": {},
   "outputs": [
    {
     "name": "stdout",
     "output_type": "stream",
     "text": [
      "\n",
      "    __1__\n",
      "   /     \\\n",
      "  0       6\n",
      " / \\     / \\\n",
      "3   2   5   4\n",
      "\n"
     ]
    }
   ],
   "source": [
    "# printing the tree\n",
    "\n",
    "from binarytree import build\n",
    "# assuming that the sorted order represents \n",
    "# the level-order in the tree\n",
    "level_order_values = [1,0,6,3,2,5,4]\n",
    "tree = build(level_order_values)\n",
    "print(tree)"
   ]
  },
  {
   "cell_type": "code",
   "execution_count": 16,
   "metadata": {},
   "outputs": [
    {
     "data": {
      "image/png": "[encoded data removed]",
      "text/plain": [
       "<IPython.core.display.Image object>"
      ]
     },
     "execution_count": 16,
     "metadata": {},
     "output_type": "execute_result"
    }
   ],
   "source": [
    "Image(filename='graph1.png')"
   ]
  },
  {
   "cell_type": "markdown",
   "metadata": {},
   "source": [
    "#### Local Strategy 2\n",
    "\n",
    "For this strategy, our assumptions and thought processes are the following:\n",
    "\n",
    "- Every child-parent gene pair has the higher shared letters then any other pairs (i.e. grandparent-grandchild or uncle-niece or sibling)\n",
    "- The direct ancestors/descendants (i.e. parent-child, grandparent-grandchild) connections are more stronger then any non-direct connection (i.e. uncle-niece, sibling, cousin, 2nd cousin etc.)\n",
    "- As the root node has a direct connection with every other nodes, overall connections should be highest for the root nodes.\n",
    "- The number of direct connection for every leave node is equal to the depth of the leave node as they don't have any downwards or same-level direct connection. Their only direct connections are the parents and grandparents up to the root node. So overall connection should be lowest for the leave nodes.\n",
    "- The direct connections for the other nodes are higher then the leave nodes and lower than the root nodes. If they lies in more upper level, they should have more direct descendants and thus relatively higher overall connection.\n",
    "- So considering all connection, the higher average value should indicate the lower depth of the node.\n",
    "\n",
    "$\\therefore$ If we take the average of all the connection of each node, the average should be highest for the root node (here, the grandparent) and it will be lowest for the leave nodes (here, the child nodes) and other node (the parents) will be in the middle."
   ]
  },
  {
   "cell_type": "markdown",
   "metadata": {},
   "source": [
    "##### Implementation:\n",
    "\n",
    "1. Create the LCS length matrix, C for all the nodes \n",
    "2. As the lengths of the different pairs vary, more useful metric will be to use the ratio of the LCS length and the average length of the pairs. We can divide each LCS length by the average length of the corresponding pair to get the relative length.\n",
    "3. Every string has one relative LCS length equal to 1, so it's not necessary to remove it. So we will take the average of all the relative LCS length for each of the strings.\n",
    "4. If this total average of string $i$ is higher then string $j$, then the depth of the string $i$ is lower then the string $j$, which suggests:\n",
    "    - The highest string will be the grandparent (root)\n",
    "    - The lowest 4 strings will be 4 children\n",
    "    - The remaining one will be the parents"
   ]
  },
  {
   "cell_type": "code",
   "execution_count": 17,
   "metadata": {},
   "outputs": [
    {
     "data": {
      "text/plain": [
       "array([[52, 40, 41, 48, 39, 38, 45],\n",
       "       [40, 54, 38, 38, 47, 44, 43],\n",
       "       [41, 38, 47, 39, 36, 36, 39],\n",
       "       [48, 38, 39, 55, 38, 37, 42],\n",
       "       [39, 47, 36, 38, 60, 39, 40],\n",
       "       [38, 44, 36, 37, 39, 54, 40],\n",
       "       [45, 43, 39, 42, 40, 40, 50]])"
      ]
     },
     "execution_count": 17,
     "metadata": {},
     "output_type": "execute_result"
    }
   ],
   "source": [
    "## lcs length matrix\n",
    "C"
   ]
  },
  {
   "cell_type": "code",
   "execution_count": 18,
   "metadata": {
    "colab": {},
    "colab_type": "code",
    "deletable": false,
    "id": "68MT9k-Qoviw",
    "nbgrader": {
     "cell_type": "code",
     "checksum": "95ce8cd90fba7227085c13c6596dccbf",
     "grade": true,
     "grade_id": "cell-f821d1fa1b4c8508",
     "locked": false,
     "points": 0,
     "schema_version": 3,
     "solution": true,
     "task": false
    },
    "scrolled": false
   },
   "outputs": [
    {
     "name": "stdout",
     "output_type": "stream",
     "text": [
      "[[1.   0.75 0.83 0.9  0.7  0.72 0.88]\n",
      " [0.75 1.   0.75 0.7  0.82 0.81 0.83]\n",
      " [0.83 0.75 1.   0.76 0.67 0.71 0.8 ]\n",
      " [0.9  0.7  0.76 1.   0.66 0.68 0.8 ]\n",
      " [0.7  0.82 0.67 0.66 1.   0.68 0.73]\n",
      " [0.72 0.81 0.71 0.68 0.68 1.   0.77]\n",
      " [0.88 0.83 0.8  0.8  0.73 0.77 1.  ]]\n"
     ]
    }
   ],
   "source": [
    "## making the relative gene length matrix\n",
    "\n",
    "# initialize with 0\n",
    "relative_gene_matrix = np.zeros((n_gene, n_gene))\n",
    "\n",
    "\n",
    "for i in range(n_gene):\n",
    "    \n",
    "    # the diagonals are always 1 as both are the same pair\n",
    "    relative_gene_matrix[i,i] = 1\n",
    "    \n",
    "    # only calculate the upper diagonal and complete the lower\n",
    "    # diagonal accordingly\n",
    "    for j in range(i+1, n_gene):\n",
    "        \n",
    "        # realative length = LCS length/ mean string length\n",
    "        mean = np.mean((C[i,i], C[j,j]))\n",
    "        relative_gene_matrix[i,j] = (C[i,j]/mean).round(2)\n",
    "        relative_gene_matrix[j,i] = relative_gene_matrix[i,j]\n",
    "\n",
    "print(relative_gene_matrix)"
   ]
  },
  {
   "cell_type": "code",
   "execution_count": 19,
   "metadata": {},
   "outputs": [
    {
     "data": {
      "image/png": "[encoded data removed]",
      "text/plain": [
       "<Figure size 432x288 with 2 Axes>"
      ]
     },
     "metadata": {
      "needs_background": "light"
     },
     "output_type": "display_data"
    }
   ],
   "source": [
    "# visualization\n",
    "import matplotlib.pyplot as plt\n",
    "import seaborn as sns\n",
    "\n",
    "heatmap = sns.heatmap(relative_gene_matrix, annot = True, cmap = 'Reds')\n",
    "heatmap.xaxis.set_ticks_position('top') # show the ticks on top\n",
    "plt.title('Relative LCS Length')\n",
    "plt.show()"
   ]
  },
  {
   "cell_type": "code",
   "execution_count": 20,
   "metadata": {},
   "outputs": [
    {
     "name": "stdout",
     "output_type": "stream",
     "text": [
      "String 0 Average: 0.826\n",
      "String 1 Average: 0.809\n",
      "String 2 Average: 0.789\n",
      "String 3 Average: 0.786\n",
      "String 4 Average: 0.751\n",
      "String 5 Average: 0.767\n",
      "String 6 Average: 0.83\n",
      "\n",
      "Strings sorted by their average: \n",
      "[6 0 1 2 3 5 4]\n"
     ]
    }
   ],
   "source": [
    "# the average of the all relative LCS length\n",
    "\n",
    "avg = np.zeros(n_gene)\n",
    "\n",
    "for i in range(n_gene):\n",
    "    avg[i] = np.mean(sorted_relative_len[i])\n",
    "    print('String {} Average: {}'.format(i, avg[i].round(3)))\n",
    "\n",
    "print(\"\\nStrings sorted by their average: \\n{}\".format(np.argsort(-1*avg)))"
   ]
  },
  {
   "cell_type": "markdown",
   "metadata": {},
   "source": [
    "**Result**\n",
    "\n",
    "- The highest average string is the **grandparent** string:\n",
    "    * String 6\n",
    "- The next 2 strings are the **parent** strings:\n",
    "    * String 0\n",
    "    * String 1\n",
    "- The lowest 4 Strings are the **children** strings:\n",
    "    * String 2\n",
    "    * String 3\n",
    "    * String 5\n",
    "    * String 4"
   ]
  },
  {
   "cell_type": "code",
   "execution_count": 21,
   "metadata": {},
   "outputs": [
    {
     "name": "stdout",
     "output_type": "stream",
     "text": [
      "\n",
      "    __6__\n",
      "   /     \\\n",
      "  0       1\n",
      " / \\     / \\\n",
      "2   3   5   4\n",
      "\n"
     ]
    }
   ],
   "source": [
    "from binarytree import build\n",
    "level_order_values = [6,0,1,2,3,5,4]\n",
    "tree = build(level_order_values)\n",
    "print(tree)"
   ]
  },
  {
   "cell_type": "code",
   "execution_count": 22,
   "metadata": {},
   "outputs": [
    {
     "data": {
      "image/png": "[encoded data removed]",
      "text/plain": [
       "<IPython.core.display.Image object>"
      ]
     },
     "execution_count": 22,
     "metadata": {},
     "output_type": "execute_result"
    }
   ],
   "source": [
    "Image('graph2.png')"
   ]
  },
  {
   "cell_type": "markdown",
   "metadata": {},
   "source": [
    "**Discussion and Limitation:**\n",
    "\n",
    "One major limitation of both of the local strategy is that they just told us the levels of each nodes, i.e. either if it is a grandparent, parent or child.\n",
    "\n",
    "But it doesn't tell us which nodes are connected with which nodes and how to build the whole tree. So in both cases in order to build the tree, we just assume that the output order (sorted by their 3-best-avg or total average) of the parents and the children are in level_order. But there is no implication from the strategy itself saying that the connected nodes are originally a parent-child node. For example, we cannot be sure that string 2 and string 3 is the children of string 0, not the string 1."
   ]
  },
  {
   "cell_type": "markdown",
   "metadata": {},
   "source": [
    "Now, both strategy gives different outcome, it means the assumptions of at least one of the strategy is not fulfilled in our tree. For further inspection, we can take help from the heatmap of the relative LCS length:"
   ]
  },
  {
   "cell_type": "code",
   "execution_count": 23,
   "metadata": {},
   "outputs": [
    {
     "data": {
      "image/png": "[encoded data removed]",
      "text/plain": [
       "<Figure size 432x288 with 2 Axes>"
      ]
     },
     "metadata": {
      "needs_background": "light"
     },
     "output_type": "display_data"
    }
   ],
   "source": [
    "heatmap = sns.heatmap(relative_gene_matrix, annot = True, cmap = 'Reds')\n",
    "heatmap.xaxis.set_ticks_position('top') # show the ticks on top\n",
    "plt.title('Relative LCS Length')\n",
    "plt.show()"
   ]
  },
  {
   "cell_type": "markdown",
   "metadata": {},
   "source": [
    "In **local strategy 1**, from the assumption that the child-parent edge are the strongest, we predicted that the grandparent, parent and children should have 2, 3, and 1 strong connections respectively.\n",
    "\n",
    "In the heat map, we can see that,\n",
    "- string 0 and 1 have 3 strong connection, thus possibly the parent\n",
    "- string 4 and 5 have 1 stronger connection, with string 1, so possibly they are the children of string 1\n",
    "\n",
    "But,\n",
    "- string 2 and 3 has 1 very strong connection with string 0, but also have a smaller strong connection with string 6\n",
    "- string 6 has 4 relatively string connection, 2 most strong ones are with string 0 and string 1 and other 2 weak ones are with string 2 and 3\n",
    "\n",
    "So we can induce that,\n",
    "- string 2 and 3 are children of string 0, but also have a smaller strong connection with their grandparent string 6\n",
    "- string 6 is the grandparent, parent of string 0 and 1, but also have a smaller strong connection with its grandchild string 2 and 3\n",
    "\n",
    "So, we can conclude that,\n",
    "- Our assumptions were correct that the parent-child pairs are stronger as 6-2 and 6-3 pairs were relatively weaker then any parent-child pair.\n",
    "- But our implementation was not correct. We assumed that the average of the best 3 connections will reflect the number of strong connection of each node. But the 3rd relatively weaker connection of the grandparent (6-2 connection: 0.8) was significantly closer to the all three relatively stronger child-parent connection of one of the parent string 1 (0.82, 0.81 and 0.83).\n",
    "- So that's why our strategy gave misleading answer and misclassified the root string 6 as a parent and the parent string 1 as the root node."
   ]
  },
  {
   "cell_type": "markdown",
   "metadata": {},
   "source": [
    "#### Global Strategy 1\n",
    "\n",
    "For this strategy, our assumptions and thought processes are the following:\n",
    "\n",
    "- Every child-parent gene pair has the higher shared letters then any other pairs (i.e. grandparent-grandchild or uncle-niece or sibling) thus stronger then all other pairs.\n",
    "- There exist no non-parental pair, which is stronger then any parental pair in the whole tree.\n",
    "- Due to random mutation, it might be possible that two different string can have a very strong similarity due to random chance. We are assuming that no such case exists in our gene string.\n",
    "- So if we take the strongest pairs, they will always be parent-child pair.\n",
    "- As every edge connects a node with its parent only except the root node. So if there is $n$ node in a gene tree, there will be exactly $n-1$ distinct edges.\n",
    "\n",
    "$\\therefore$ If we continue to add the stronger pairs as the edge of our graph until the number of edge reached $n-1$, where $n $ is the number of gene, we will end up having our desired geneological tree."
   ]
  },
  {
   "cell_type": "markdown",
   "metadata": {},
   "source": [
    "##### Implementation:\n",
    "\n",
    "1. Create the LCS length matrix, C for all the nodes \n",
    "2. As the lengths of the different pairs vary, more useful metric will be to use the ratio of the LCS length and the average length of the pairs. We can divide each LCS length by the average length of the corresponding pair to get the relative length.\n",
    "3. Make an empty graph.\n",
    "4. As the diagonal of the relative length matrix has 1, representing same string twice, we can ignore them (i.e. make them 0). Also the matrix is symmetric, so we can work with only the upper triangular of the matrix (i.e. make every element below the diagonal 0).\n",
    "5. Then find the most strong remaining pair (maximum number in the remaining matrix) and add the pair of string as an edge of the graph.\n",
    "6. Change the value of the maximum relative length to -1.\n",
    "7. Repeat step 5 and 6 until the number of distinct edge of the graph reached $n-1$\n",
    "\n",
    "8. Draw the Graph:\n",
    "    - The leave nodes will be the children \n",
    "    - The nodes connecting by two children will be the parents, they will have 3 total edge (2 to two child and 1 to the grandparent)\n",
    "    - The nodes connecting by the two parents will the grandparent"
   ]
  },
  {
   "cell_type": "code",
   "execution_count": 24,
   "metadata": {},
   "outputs": [
    {
     "data": {
      "image/png": "[encoded data removed]",
      "text/plain": [
       "<Figure size 432x288 with 2 Axes>"
      ]
     },
     "metadata": {
      "needs_background": "light"
     },
     "output_type": "display_data"
    }
   ],
   "source": [
    "# relative_gene_matrix calculated as before\n",
    "\n",
    "heatmap = sns.heatmap(relative_gene_matrix, annot = True, cmap = 'Reds')\n",
    "heatmap.xaxis.set_ticks_position('top') # show the ticks on top\n",
    "plt.title('Relative LCS Length')\n",
    "plt.show()"
   ]
  },
  {
   "cell_type": "code",
   "execution_count": 25,
   "metadata": {
    "scrolled": false
   },
   "outputs": [],
   "source": [
    "# make an empty graph\n",
    "\n",
    "import networkx as nx\n",
    "\n",
    "G = nx.Graph()\n",
    "\n"
   ]
  },
  {
   "cell_type": "code",
   "execution_count": 26,
   "metadata": {},
   "outputs": [],
   "source": [
    "# work with only the upper triangular matrix and make the diagonals and \n",
    "# entries below the diagonal to 0\n",
    "upper_triangle = np.triu(relative_gene_matrix, 1)\n",
    "\n",
    "\n",
    "# continue adding edges until # of edge = n_gene - 1\n",
    "while(G.number_of_edges() < n_gene - 1):\n",
    "    # finding the index of the maximum relative LCS length \n",
    "    # (i.e. the strongest pair)\n",
    "    most_common = np.unravel_index(np.argmax(upper_triangle, axis=None), upper_triangle.shape)\n",
    "    \n",
    "    # add an edge between the strongly connected pair\n",
    "    G.add_edge(most_common[0], most_common[1])\n",
    "    \n",
    "    # make the new value for the pair -1, so that we can \n",
    "    # find the next stronger pair\n",
    "    upper_triangle[most_common] = -1\n"
   ]
  },
  {
   "cell_type": "code",
   "execution_count": 27,
   "metadata": {},
   "outputs": [
    {
     "name": "stderr",
     "output_type": "stream",
     "text": [
      "C:\\Users\\mahmu\\Anaconda3\\lib\\site-packages\\networkx\\drawing\\nx_pylab.py:611: MatplotlibDeprecationWarning: isinstance(..., numbers.Number)\n",
      "  if cb.is_numlike(alpha):\n"
     ]
    },
    {
     "data": {
      "image/png": "[encoded data removed]",
      "text/plain": [
       "<Figure size 432x288 with 1 Axes>"
      ]
     },
     "metadata": {},
     "output_type": "display_data"
    }
   ],
   "source": [
    "# Draw the graph\n",
    "nx.draw(G, with_labels=True)"
   ]
  },
  {
   "cell_type": "markdown",
   "metadata": {},
   "source": [
    "**Result**\n",
    "\n",
    "- The leave nodes are the **children** strings:\n",
    "    * String 4\n",
    "    * String 5\n",
    "    \n",
    "    * String 2\n",
    "    * String 3\n",
    "- The 2 nodes connected by the children are the **parent** strings:\n",
    "    * String 0 connected by string 2 and string 3\n",
    "    * String 1 connected by string 4 and string 5\n",
    "- The node connected by the parents is the **grandparent** string:\n",
    "    * String 6 connected by string 0 and string 1"
   ]
  },
  {
   "cell_type": "code",
   "execution_count": 28,
   "metadata": {},
   "outputs": [
    {
     "name": "stdout",
     "output_type": "stream",
     "text": [
      "\n",
      "    __6__\n",
      "   /     \\\n",
      "  0       1\n",
      " / \\     / \\\n",
      "2   3   4   5\n",
      "\n"
     ]
    }
   ],
   "source": [
    "level_order_values = [6,0,1,2,3,4,5]\n",
    "tree = build(level_order_values)\n",
    "print(tree)"
   ]
  },
  {
   "cell_type": "code",
   "execution_count": 29,
   "metadata": {},
   "outputs": [
    {
     "data": {
      "image/png": "[encoded data removed]",
      "text/plain": [
       "<IPython.core.display.Image object>"
      ]
     },
     "execution_count": 29,
     "metadata": {},
     "output_type": "execute_result"
    }
   ],
   "source": [
    "Image('graph2.png')"
   ]
  },
  {
   "cell_type": "markdown",
   "metadata": {},
   "source": [
    "**Discussion:**\n",
    "\n",
    "As expected, the global strategy tree was similar as the tree we found in local strategy 2 and also in the heat map analysis after the local strategies. \n",
    "\n",
    "The previous two strategy was local strategy as we didn't consider all the connection between all the nodes to build the tree. Instead we used the property of a single node (i.e. their average connection with other nodes or the average of their best-three connection) to build the tree.\n",
    "\n",
    "But in this strategy, we used the overall best connections of the whole matrix and use them to build the edges of our graph.\n",
    "\n",
    "The major advantage is that, we can found the exact pair-child nodes and thus build the correct tree.\n",
    "\n",
    "So, among these three strategies, the global one has higher probability of giving the correct genealogy tree. As we see in earlier discussion, local strategy 1 can give wrong result if the best 3 average don't represent the number of strong connection. Local strategy should give the correct levels as long as the parent-child pair are the strongest but it cannot tell us which child is related to which parent."
   ]
  },
  {
   "cell_type": "markdown",
   "metadata": {
    "colab_type": "text",
    "deletable": false,
    "editable": false,
    "id": "LFgwCZXwovi2",
    "nbgrader": {
     "cell_type": "markdown",
     "checksum": "3672867029597deac185e46992812007",
     "grade": false,
     "grade_id": "cell-d35ea5d12d941894",
     "locked": true,
     "schema_version": 3,
     "solution": false,
     "task": false
    }
   },
   "source": [
    "## Genealogy Binary Tree\n",
    "\n",
    "Write an algorithm in Python for the general case, which takes as input $N$ sequencing strings and outputs a genealogy binary tree associated with the $N$ strings that best exposes the relationships between them. You should test your algorithm by providing at least two simple test cases that demonstrate that your algorithmic implementation is correct. "
   ]
  },
  {
   "cell_type": "markdown",
   "metadata": {},
   "source": [
    "**Global Strategy**\n",
    "\n",
    "We will implement the global strategy as it is better than other two strategies. But we will add some improvement to consider some of the special cases. Let's see the major initial assumptions again:\n",
    "\n",
    "1. Every child-parent gene pair has the higher shared letters then any other pairs (i.e. grandparent-grandchild or uncle-niece or sibling) for a single string, thus stronger then all other pairs.\n",
    "2. There exist no non-parental pair, which is stronger then any parental pair in the whole tree.\n",
    "3. Due to random mutation, it might be possible that two different non-parental string can have a very strong similarity due to random chance. We are assuming that no such case exists in our gene string."
   ]
  },
  {
   "cell_type": "markdown",
   "metadata": {},
   "source": [
    "**1st improvement:**\n",
    "\n",
    "This will consider the case, which will not satisfy the 2nd assumption.\n",
    "\n",
    "Suppose, \n",
    "- 2 is a strongly connected child of 1 and 1 is a strongly connected child of 0. As both (0-1 and 0-2 parent-child pair) are strong, (0-2 grandparent-grandchild) has a relatively strong connection.\n",
    "- 4 is weakly connected with its parent 3. So though (4-3 parent-child pair) is the strongest pair for string 4, this connection is weaker then (0-2 grandparent-grandchild) connection.\n",
    "\n",
    "So, it breaks assumption 2 but holds assumption 1. So, when we will add the strongest edges one by one, we will add (0-2) before (4-3) and as the number of edge will become n-1, the tree will stop adding edge, thus return a wrong tree.\n",
    "\n",
    "To resolve the problem,\n",
    "- We will first add the strongest connection for EACH of the string.\n",
    "- Then if still the number of edge is below n-1, we will continue adding the remaining strongest edge.\n",
    "\n",
    "So, in this particular example, first considering all the strongest edge for each string, we will add (4-3) before (0-2) as the stronger edge for 0 and 2 are (0-1) and (2-1). So, even before adding (0-2) the number of edge will be n-1 and it will stop adding edges\n",
    "\n"
   ]
  },
  {
   "cell_type": "markdown",
   "metadata": {},
   "source": [
    "**2nd Improvement:**\n",
    "\n",
    "This will consider some of those case, which will break the 3rd and consequently the 1st assumption and give necessary warning.\n",
    "\n",
    "If there exists a (or some) non-parental edge(s) which are more strong then parental node(s), then our strategy will connect them first. And as long as the number of edge will reach (n-1), it will stop adding any edge and return the graph. \n",
    "\n",
    "Then it is possible that we will miss one or more parental edge and get an unconnected graph. In an unconnected graph, even if we can identify which one is the potential non-parent edge, we cannot add the parts of the graph as we don't know which are the missing parental edge.\n",
    "\n",
    "So, we will further check if all the strings of the tree are connected in a single tree. If not, we will show an warning stating that 'There exists some non-parent edge which are stronger then some parent edge'. Then we will continue adding edges until we have a full connected graph to ensure that we don't miss any parent edge. Having all nodes also allow for better understanding of potential non-parent node.\n",
    "\n",
    "To understand the importance of this approach, consider the following tree:\n"
   ]
  },
  {
   "cell_type": "code",
   "execution_count": 30,
   "metadata": {},
   "outputs": [
    {
     "name": "stdout",
     "output_type": "stream",
     "text": [
      "\n",
      "    __0__\n",
      "   /     \\\n",
      "  1       2\n",
      " / \\     / \\\n",
      "3   4   5   6\n",
      "\n"
     ]
    }
   ],
   "source": [
    "values = [0,1,2,3,4,5,6]\n",
    "tree = build(values)\n",
    "print(tree)"
   ]
  },
  {
   "cell_type": "markdown",
   "metadata": {},
   "source": [
    "If due to random mutation, (0-3) pair become strongly connected then (0-1) and (0-2), then one possible case is the following:"
   ]
  },
  {
   "cell_type": "code",
   "execution_count": 31,
   "metadata": {
    "colab": {},
    "colab_type": "code",
    "deletable": false,
    "id": "1Z6j_0xgovi2",
    "nbgrader": {
     "cell_type": "code",
     "checksum": "f064d5a4d1e2fced3c27465b3ca885ac",
     "grade": true,
     "grade_id": "cell-cc46da731bc31efb",
     "locked": false,
     "points": 0,
     "schema_version": 3,
     "solution": true,
     "task": false
    }
   },
   "outputs": [
    {
     "name": "stderr",
     "output_type": "stream",
     "text": [
      "C:\\Users\\mahmu\\Anaconda3\\lib\\site-packages\\networkx\\drawing\\nx_pylab.py:611: MatplotlibDeprecationWarning: isinstance(..., numbers.Number)\n",
      "  if cb.is_numlike(alpha):\n"
     ]
    },
    {
     "data": {
      "image/png": "[encoded data removed]",
      "text/plain": [
       "<Figure size 432x288 with 1 Axes>"
      ]
     },
     "metadata": {},
     "output_type": "display_data"
    }
   ],
   "source": [
    "G = nx.Graph()\n",
    "\n",
    "# adding the strong nodes for each string\n",
    "G.add_edge(0,3)\n",
    "G.add_edge(1,4)\n",
    "G.add_edge(2,0)\n",
    "G.add_edge(3,0)\n",
    "G.add_edge(4,1)\n",
    "G.add_edge(5,2)\n",
    "G.add_edge(6,2)\n",
    "\n",
    "# n_edge = 5\n",
    "# n_node = 7\n",
    "\n",
    "# we will add one remaining stronger edge\n",
    "# As (0-3) is very strong and (2-0) is very strong, one possible case\n",
    "G.add_edge(2,3)\n",
    "\n",
    "nx.draw(G, with_labels =True)"
   ]
  },
  {
   "cell_type": "markdown",
   "metadata": {},
   "source": [
    "Here, as (2-3-0) form a triangle, which cannot be possible in a genealogy tree, any of these 3 edges are potential non-parent edge. As we don't know how and with which whom, string 1 and 4 are related, it's not possible to apply the properties of a genealogy binary tree to determine the non-parent edge. "
   ]
  },
  {
   "cell_type": "code",
   "execution_count": 32,
   "metadata": {},
   "outputs": [
    {
     "name": "stderr",
     "output_type": "stream",
     "text": [
      "C:\\Users\\mahmu\\Anaconda3\\lib\\site-packages\\networkx\\drawing\\nx_pylab.py:611: MatplotlibDeprecationWarning: isinstance(..., numbers.Number)\n",
      "  if cb.is_numlike(alpha):\n"
     ]
    },
    {
     "data": {
      "image/png": "[encoded data removed]",
      "text/plain": [
       "<Figure size 432x288 with 1 Axes>"
      ]
     },
     "metadata": {},
     "output_type": "display_data"
    }
   ],
   "source": [
    "# now let's continue adding edge, until we get a connecting graph\n",
    "\n",
    "G.add_edge(1,0)\n",
    "nx.draw(G, with_labels = True)"
   ]
  },
  {
   "cell_type": "markdown",
   "metadata": {},
   "source": [
    "Now, as we have the full tree, we can try removing one of the edges from the triangle and check if it still remains a valid tree.\n",
    "\n",
    "- Removing (0-3):\n",
    "    - 3, 5, 6 all are leave nodes and have one parent 2, but no string can have more than 2 child\n",
    "    - So, not valid\n",
    "- Removing (0-2):\n",
    "    - parent of 5 and 6 is 2\n",
    "    - parent of 4 is 1\n",
    "    - parent of 1 is 0\n",
    "    - parent of 2 and 0 is 3 (root)\n",
    "    - So valid tree\n",
    "    - Notice that there is now many different tree possible:\n",
    "    \n",
    "    $(5,6) > 2 > 3 > 0 > 1 > 4$ (root 4)\n",
    "    \n",
    "    $(5,6) > 2 > 3 > 0 < 1 < 4$(root 0)\n",
    "    \n",
    "    $(5,6) > 2 > 3 > 0 > 1 < 4$ (root 1)\n",
    "    \n",
    "- Removing (2-3):\n",
    "    - parent of 5 and 6 is 2\n",
    "    - parent of 4 is 1\n",
    "    - parent of 3 and 2 is 0\n",
    "    - parent of 0 is 1 (root)\n",
    " \n",
    "So, due to the abnormal random mutation (which caused non-parent edge to be stronger), there is many valid genealogy tree depending on how we define a valid genealogy tree (i.e. 'no non-parental stronger edges' or 'root will be chosen to minimize max_depth' etc.).\n",
    "\n",
    "Thus having a connecting tree allow the user to further investigate the tree better **if the tree has stronger non-parent edges.**"
   ]
  },
  {
   "cell_type": "markdown",
   "metadata": {},
   "source": [
    "**Implement Python Code**"
   ]
  },
  {
   "cell_type": "code",
   "execution_count": 33,
   "metadata": {},
   "outputs": [],
   "source": [
    "## as we will use relative LCS length\n",
    "## let's make a function directly for that\n",
    "\n",
    "def relative_lcs_len(x,y):\n",
    "    \"\"\"\n",
    "    Returns the relative LCS length \n",
    "    \n",
    "    Input:\n",
    "    x,y :p pair of string\n",
    "    \n",
    "    Output:\n",
    "    relative_len: relative LCS length\n",
    "    \"\"\"\n",
    "    \n",
    "    # lcs_length\n",
    "    lcs_len = longest_common_subsequence(x,y)\n",
    "    \n",
    "    # divide by the average length\n",
    "    relative_len = lcs_len/ ( (len(x)+len(y))/2 )\n",
    "    \n",
    "    return np.round(relative_len, 2)"
   ]
  },
  {
   "cell_type": "code",
   "execution_count": 34,
   "metadata": {},
   "outputs": [],
   "source": [
    "\n",
    "def genealogy_tree(set_string, connected_tree = True):\n",
    "    \"\"\"\n",
    "    Returns a genealogy tree from the given set of gene string\n",
    "    \n",
    "    Input:\n",
    "    Set string: A list of N gene string\n",
    "    connected_tree: Boolean: if 'True', the tree will continue adding edge\n",
    "    until all the strings are connected. If 'False', return the tree when the edge \n",
    "    number equals (N-1). Default is True.\n",
    "    \n",
    "    \n",
    "    Output:\n",
    "    Tree: An undirected graph represents the genealogy tree of the given string\n",
    "    \n",
    "    Prints:\n",
    "    - The heatmap showing the relative LCS length for all possible pairs\n",
    "    - Draw the genealogy tree\n",
    "    \"\"\"\n",
    "    \n",
    "    # number if gene\n",
    "    n_gene = len(set_string)\n",
    "\n",
    "\n",
    "    \n",
    "    ## making the relative gene length matrix\n",
    "\n",
    "    # initialize with 0\n",
    "    relative_gene_matrix = np.zeros((n_gene, n_gene))\n",
    "\n",
    "\n",
    "    for i in range(n_gene):\n",
    "\n",
    "        # the diagonals are always 1 as both are the same pair\n",
    "        relative_gene_matrix[i,i] = 1\n",
    "\n",
    "        # only calculate the upper diagonal and complete the lower\n",
    "        # diagonal accordingly\n",
    "        for j in range(i+1, n_gene):\n",
    "\n",
    "            # realative length = LCS length/ mean string length\n",
    "            relative_gene_matrix[i,j] = relative_lcs_len(set_string[i], set_string[j])\n",
    "            relative_gene_matrix[j,i] = relative_gene_matrix[i,j]\n",
    "\n",
    "    \n",
    "    \n",
    "    ### Visualize the relative LCS lenth\n",
    "    heatmap = sns.heatmap(relative_gene_matrix, annot = True, cmap = 'Reds')\n",
    "    heatmap.xaxis.set_ticks_position('top')\n",
    "    plt.title('Relative LCS Length')\n",
    "    plt.show()\n",
    "\n",
    "\n",
    "    \n",
    "    ### Make an empty graph\n",
    "    G = nx.Graph()\n",
    "\n",
    "    \n",
    "    ### FInding the best connection for each string\n",
    "    \n",
    "    connection = relative_gene_matrix\n",
    "    np.fill_diagonal(connection, 0) # change the diagonal to 0\n",
    "\n",
    "    \n",
    "    # go through each of the string\n",
    "    for i in range(n_gene):\n",
    "        # finding the index of the maximum relative LCS length \n",
    "        # for each string (strongest connection for each string)\n",
    "        most_common = np.unravel_index(np.argmax(connection[i], axis=None), connection[i].shape)\n",
    "        \n",
    "        # add an edge between the string and its strongest pair\n",
    "        G.add_edge(i, most_common[0])\n",
    "        \n",
    "        # make the new value for the pair -1, so that we don't\n",
    "        # take this pair anymore\n",
    "        connection[i][most_common[0]] = -1\n",
    "\n",
    "        \n",
    "    #### Finding any other missing child-parent connection if \n",
    "    ### the number of edge is less than (n-1)\n",
    "    \n",
    "\n",
    "    # taking only the upper triangle\n",
    "    upper_triangle = np.triu(connection, 1)\n",
    "\n",
    "    # continue adding edges until # of edge = n_gene - 1\n",
    "    while(G.number_of_edges() < n_gene - 1):\n",
    "        # finding the index of the maximum relative LCS length \n",
    "        # (i.e. the strongest pair)\n",
    "        most_common = np.unravel_index(np.argmax(upper_triangle, axis=None), upper_triangle.shape)\n",
    "\n",
    "        # add an edge between the strongly connected pair\n",
    "        G.add_edge(most_common[0], most_common[1])\n",
    "\n",
    "        # make the new value for the pair -1, so that we can \n",
    "        # find the next stronger pair\n",
    "        upper_triangle[most_common] = -1\n",
    "\n",
    "    \n",
    "    \n",
    "    if(connected_tree):\n",
    "    \n",
    "        #### If still all the strings are not connected, \n",
    "        ### continue adding the strongest edges until all are connected\n",
    "        \n",
    "        # warning is true before entering the while loop\n",
    "        warning = True\n",
    "        \n",
    "        # continue until the connceted components has all the string\n",
    "        while ( sorted(nx.connected_components(G), key=len, reverse=True)[0] != set(range(n_gene)) ):\n",
    "            \n",
    "            # show the warning only for the first time of the while loop\n",
    "            if(warning == True):\n",
    "                print(\"WARNING: The set of string has non-parental connection which are stronger then parental connection.\")\n",
    "                warning = False\n",
    "            \n",
    "            # finding the index of the maximum relative LCS length \n",
    "            # (i.e. the strongest pair) in the remaining matrix\n",
    "            most_common = np.unravel_index(np.argmax(upper_triangle, axis=None), upper_triangle.shape)\n",
    "\n",
    "            # add an edge between the strongly connected pair\n",
    "            G.add_edge(most_common[0], most_common[1])\n",
    "\n",
    "            print(most_common, upper_triangle[most_common])\n",
    "            # make the new value for the pair -1, so that we can \n",
    "            # find the next stronger pair\n",
    "            upper_triangle[most_common] = -1\n",
    "        \n",
    "    \n",
    "    ### Draw the genealogy tree\n",
    "    \n",
    "    nx.draw(G, with_labels=True)\n",
    "    plt.show()\n",
    "\n",
    "    # return the tree\n",
    "    return G\n"
   ]
  },
  {
   "cell_type": "code",
   "execution_count": 35,
   "metadata": {},
   "outputs": [
    {
     "data": {
      "image/png": "[encoded data removed]",
      "text/plain": [
       "<Figure size 432x288 with 2 Axes>"
      ]
     },
     "metadata": {
      "needs_background": "light"
     },
     "output_type": "display_data"
    },
    {
     "name": "stderr",
     "output_type": "stream",
     "text": [
      "C:\\Users\\mahmu\\Anaconda3\\lib\\site-packages\\networkx\\drawing\\nx_pylab.py:611: MatplotlibDeprecationWarning: isinstance(..., numbers.Number)\n",
      "  if cb.is_numlike(alpha):\n"
     ]
    },
    {
     "data": {
      "image/png": "[encoded data removed]",
      "text/plain": [
       "<Figure size 432x288 with 1 Axes>"
      ]
     },
     "metadata": {},
     "output_type": "display_data"
    }
   ],
   "source": [
    "tree = genealogy_tree(set_string)"
   ]
  },
  {
   "cell_type": "markdown",
   "metadata": {},
   "source": [
    "**Testing with different Gene strings:**"
   ]
  },
  {
   "cell_type": "code",
   "execution_count": 36,
   "metadata": {},
   "outputs": [],
   "source": [
    "import random\n",
    "\n",
    "def mutate_gene(gene, iteration=5):\n",
    "    '''\n",
    "    Returns a gene string after 'iteration' number of random mutation\n",
    "    '''\n",
    "    \n",
    "    # convert to list\n",
    "    gene_list = list(gene)\n",
    "    \n",
    "    for i in range(iteration):\n",
    "        # choose random mutation site\n",
    "        mutation_site = random.randint(0, len(gene_list) - 1)\n",
    "        # randomly insert one of the 4 dna base\n",
    "        gene_list[mutation_site] = random.choice(list('ATCG'))\n",
    "    \n",
    "    return ''.join(gene_list)"
   ]
  },
  {
   "cell_type": "markdown",
   "metadata": {},
   "source": [
    "**Test 1**"
   ]
  },
  {
   "cell_type": "code",
   "execution_count": 37,
   "metadata": {},
   "outputs": [
    {
     "data": {
      "text/plain": [
       "['AGTTTATGTGTCAGAAGCAAAAGATTACTAATCTACGCGTCGCAAGGTCTATTCC',\n",
       " 'AGTTTATGTGTCTGAAGTAAAAGATTAGTAATCTACGCTTCGCAAGGTCTATTCC',\n",
       " 'AGTTTATGTGTCAGAAGAAAAAGATAACTAATCTACGCGTAGCAAGGTCTATTCC',\n",
       " 'AGTTTATGTGTCAGAAGAAAAAGATAACTAATCTACGCGTAGCAGGGTCTATGCC',\n",
       " 'AGTTTATCTGGCAGCATAAAAAGATAACTAATCTACGCGTAGCAAGGTCTATTCC',\n",
       " 'AGATTATGTGTCTGAAGTAAAGGATTAGTAATCTACGCTTAGCAAGGACTATTCC',\n",
       " 'AGTTTATGTGTCTGAGGGAAAAGATTAGTAATCTACGCTTCGCAAGGTCTATTGC',\n",
       " 'AGATCATATGACTGAAGTAAAGGATCAGTAATCTACGCTTAGCAAGGACTATTCC',\n",
       " 'AGATTATGTGTCTGAAGTAAAGGATTAGTAATCTACGCTTAGTAAGGACTATACC']"
      ]
     },
     "execution_count": 37,
     "metadata": {},
     "output_type": "execute_result"
    }
   ],
   "source": [
    "new_gene_string = ['AGTTTATGTGTCAGAAGCAAAAGATTACTAATCTACGCGTCGCAAGGTCTATTCC']\n",
    "\n",
    "# 0 is the parent of 1 and 2\n",
    "for i in range(2): \n",
    "    new_gene_string.append(mutate_gene(new_gene_string[0]))\n",
    "\n",
    "# 2 is the parent of 3 and 4\n",
    "for i in range(2): \n",
    "    new_gene_string.append(mutate_gene(new_gene_string[2]))\n",
    "\n",
    "# 1 is the parent of 5 and 6\n",
    "for i in range(2): \n",
    "    new_gene_string.append(mutate_gene(new_gene_string[1]))\n",
    "\n",
    "# 5 is the parent of 7 and 8 \n",
    "for i in range(2):\n",
    "    new_gene_string.append(mutate_gene(new_gene_string[5]))\n",
    "\n",
    "new_gene_string"
   ]
  },
  {
   "cell_type": "code",
   "execution_count": 38,
   "metadata": {},
   "outputs": [
    {
     "data": {
      "image/png": "[encoded data removed]",
      "text/plain": [
       "<Figure size 432x288 with 2 Axes>"
      ]
     },
     "metadata": {
      "needs_background": "light"
     },
     "output_type": "display_data"
    },
    {
     "name": "stderr",
     "output_type": "stream",
     "text": [
      "C:\\Users\\mahmu\\Anaconda3\\lib\\site-packages\\networkx\\drawing\\nx_pylab.py:611: MatplotlibDeprecationWarning: isinstance(..., numbers.Number)\n",
      "  if cb.is_numlike(alpha):\n"
     ]
    },
    {
     "data": {
      "image/png": "[encoded data removed]",
      "text/plain": [
       "<Figure size 432x288 with 1 Axes>"
      ]
     },
     "metadata": {},
     "output_type": "display_data"
    }
   ],
   "source": [
    "tree1 = genealogy_tree(new_gene_string)"
   ]
  },
  {
   "cell_type": "markdown",
   "metadata": {},
   "source": [
    "**Test 2**"
   ]
  },
  {
   "cell_type": "code",
   "execution_count": 39,
   "metadata": {},
   "outputs": [
    {
     "data": {
      "text/plain": [
       "['AGTTTATGTGTCAGAAGCAAAAGATTACTAATCTACGCGTCGCAAGGTCTATTCC',\n",
       " 'CGTTTATGTGTCAGAAGCAAAAGATTACTAATCTATTCGTCGCAAGGTCTATTCC',\n",
       " 'AGTTGATGTGTCACTAGCCTAAGATTACTAATCTACGCGTCGCAAGGTCTATTCC',\n",
       " 'CGGTTATGTGTCCGAAGCACAAGATTACTAATCTATTCGTCGCAAGGTCTATTCC',\n",
       " 'CGTTTATGTGTCAGAAGCAAAAGATTACTAATCTCATCGTCGCAAGCGCTATTCC',\n",
       " 'AGTTGATGTGTCACTAGCCTAAGATTACTAATCTACGCGTCGCAAGGGCTTTTCC',\n",
       " 'AGTTGCTGTGTCACTAGCCTAAGATTACTTTTCTACGCGTCGCAAGGTCTATCCC',\n",
       " 'AGTTGATATGCCACTAGCCTAAGATTACTAATCTATGCGTCGCAAGGGCTCTTCC',\n",
       " 'CGTTGATGAGTCAGAAGGAAAAGATTACTGATCTAATCGTCGCAAGCGCTATTCC',\n",
       " 'CGGTTATGTGTCCGAAGCAAAAGACTACTAATCTATTCGTCACAAGTTCTAATCC',\n",
       " 'CGGTTATGTGTCCGCAGCACAAGATTACTAACCTCTTCGTCGCAAGGTATATACC']"
      ]
     },
     "execution_count": 39,
     "metadata": {},
     "output_type": "execute_result"
    }
   ],
   "source": [
    "new_gene_string = ['AGTTTATGTGTCAGAAGCAAAAGATTACTAATCTACGCGTCGCAAGGTCTATTCC']\n",
    "\n",
    "# 0 is the parent of 1 and 2\n",
    "for i in range(2): \n",
    "    new_gene_string.append(mutate_gene(new_gene_string[0]))\n",
    "\n",
    "# 1 is the parent of 3 and 4\n",
    "for i in range(2): \n",
    "    new_gene_string.append(mutate_gene(new_gene_string[1]))\n",
    "\n",
    "# 2 is the parent of 5 and 6\n",
    "for i in range(2): \n",
    "    new_gene_string.append(mutate_gene(new_gene_string[2]))\n",
    "\n",
    "# 5 is the parent of 7\n",
    "for i in range(1):\n",
    "    new_gene_string.append(mutate_gene(new_gene_string[5]))\n",
    "\n",
    "# 4 is the parent of 8\n",
    "for i in range(1):\n",
    "    new_gene_string.append(mutate_gene(new_gene_string[4]))\n",
    "\n",
    "# 3 is the parent of 9 and 10\n",
    "for i in range(2):\n",
    "    new_gene_string.append(mutate_gene(new_gene_string[3]))\n",
    "    \n",
    "new_gene_string"
   ]
  },
  {
   "cell_type": "code",
   "execution_count": 40,
   "metadata": {},
   "outputs": [
    {
     "data": {
      "image/png": "[encoded data removed]",
      "text/plain": [
       "<Figure size 432x288 with 2 Axes>"
      ]
     },
     "metadata": {
      "needs_background": "light"
     },
     "output_type": "display_data"
    },
    {
     "name": "stdout",
     "output_type": "stream",
     "text": [
      "WARNING: The set of string has non-parental connection which are stronger then parental connection.\n",
      "(2, 6) 0.93\n",
      "(5, 7) 0.93\n",
      "(0, 2) 0.91\n"
     ]
    },
    {
     "name": "stderr",
     "output_type": "stream",
     "text": [
      "C:\\Users\\mahmu\\Anaconda3\\lib\\site-packages\\networkx\\drawing\\nx_pylab.py:611: MatplotlibDeprecationWarning: isinstance(..., numbers.Number)\n",
      "  if cb.is_numlike(alpha):\n"
     ]
    },
    {
     "data": {
      "image/png": "[encoded data removed]",
      "text/plain": [
       "<Figure size 432x288 with 1 Axes>"
      ]
     },
     "metadata": {},
     "output_type": "display_data"
    }
   ],
   "source": [
    "tree2 = genealogy_tree(new_gene_string)"
   ]
  },
  {
   "cell_type": "markdown",
   "metadata": {
    "colab_type": "text",
    "deletable": false,
    "editable": false,
    "id": "B9jyf-i4ovi6",
    "nbgrader": {
     "cell_type": "markdown",
     "checksum": "5c7e64a3a5f38d6a4bd4da3e44ca7fce",
     "grade": false,
     "grade_id": "cell-bb5384e631da649b",
     "locked": true,
     "schema_version": 3,
     "solution": false,
     "task": false
    }
   },
   "source": [
    "## Computational Critique\n",
    "\n",
    "Strengths or weaknesses of our suggested algorithm and possible improvements."
   ]
  },
  {
   "cell_type": "markdown",
   "metadata": {
    "colab_type": "text",
    "deletable": false,
    "id": "DnHsXrZwovi7",
    "nbgrader": {
     "cell_type": "markdown",
     "checksum": "df3b02b781216c548993e1ba6b382b39",
     "grade": true,
     "grade_id": "cell-7970c4575d5f3848",
     "locked": false,
     "points": 0,
     "schema_version": 3,
     "solution": true,
     "task": false
    }
   },
   "source": [
    "**Strength**\n",
    "\n",
    "**1.**\n",
    "\n",
    "I used greedy strategy in our main algorithm. The greedy strategy is that we will choose the current best strong edge from the matrix, add the edge and change the value of that strong edge to find the next best edge.\n",
    "\n",
    "It is an optimizing  problem as we want to maximize the LCS connection between the edges of our genealogy tree.\n",
    "\n",
    "It has the optimal substructure, as if we have a optimal tree with N string and then want to another string, we can simply find the string which has the maximum relative LCS length (i.e. strongest edge) with the new string and add that new edge to the previous optimal tree to build our new optimal genealogy tree.\n",
    "\n",
    "In this algorithm, we are not using the 'overlapping subproblem' as we are just choosing the strongest edge without considering any property of the optimal tree for the subproblems (i.e. the optimal tree for smaller number of gene string). This is why it is a greedy algorithm and not dynamic programming.\n",
    "\n",
    "Now, our greedy approach will give us optimal result as long as the set of string holds our assumption that no non-parental string is stronger then the parental string for a specific node. We discussed in task 5 how our approach is right as we will add all the parental edges (as we are adding the stronger ones) until we reach the maximum number of edge (n-1). There is (n-1) parental string and as from our assumptions all of them are stronger then other edges, we will always choose only the parental nodes."
   ]
  },
  {
   "cell_type": "markdown",
   "metadata": {},
   "source": [
    "**2.**\n",
    "\n",
    "I used the relative_LCS_len function in our algorithm, which is based on the longest common sequence function. In longest common sequence function, we used dynamic programming to efficiently calculate the length of the LCS for two different pair of string. \n",
    "\n",
    "LCS length is an optimizing problem as we want to maximize the length of the common subsequence between the pair (suppose the pair is x and y).\n",
    "\n",
    "It has the optimal substructure. If we know the length of the LCS for $x[:i]$ and $y[:j]$, then just by checking the $x[i]$ and $y[j]$, we can find the LCS length for $x[i+1]$ and $y[j+1]$ as if they are equal the length will increase by 1, if not the length will be maximum between LCS of $(x[i],y[i+1])$ and $(x[i+1], y[i])$.\n",
    "\n",
    "As we saw in the last paragraph, we can use recursive function to find the maximum LCS length using a bottom-up approach, where we will use the maximum LCS length of the smaller subproblems. So it also has the 'overlapping subproblem', that's why we can use a table to memoize the optimal value of subproblem and use them to build up the optimal value for the full problem (i.e. longest LCS length).\n",
    "\n",
    "Use of DP, make the program more efficient and fast as we are just filling up the table, where in naive approach, we need to check all possible subsequence of x and y."
   ]
  },
  {
   "cell_type": "markdown",
   "metadata": {},
   "source": [
    "3. I used relative LCS length instead of absolute LCS length. As we have strings with different length, comparing the absolute value will mislead us, so better metric will be to compare how much percentage of their average length is common between them.\n",
    "\n",
    "4. While building relative_gene_matrix, we know the diagonals will be simply 1 as the string is pairing with itself and also the matrix is symmetric. So, I didn't calculate the diagonals and also not for the lower triangular to avoid unnecessary computation.\n",
    "\n",
    "5. The output of the function is a graph, where it clearly identifies the parental edges and draw the graph before ending the function. This allows us to directly visualize the genealogy tree and find its all connected edges. As the graph is labeled, it clearly shows which strings are connected with which strings.\n",
    "\n",
    "6. It also prints the relative LCS length matrix as a matrix to show the strength of all possible edges, it also allow us to further investigate the edges if we found any problem in our tree (i.e. non-parent edges are stronger than parental edges)."
   ]
  },
  {
   "cell_type": "markdown",
   "metadata": {},
   "source": [
    "**Limitation**\n",
    "\n",
    "1. One major limitation is our algorithm doesn't output the levels (i.e. parent, child, generation 1, 2 etc.) of each string, it just outputs the graph. So a visual inspection is needed to classify which one is parent, grandparent and the child node.\n",
    "\n",
    "2. Similarly the graph is not a binary tree nor a directed graph, rather it is an undirected graph. So it is not always intuitive and visually explicit that which node is the root of the tree and which are the parents. The level of each nodes (strings) are also not visually explicit. One good strategy is to start from the leave nodes and finding their parents and go to the higher levels. But it can be a bit hard for someone who don't know or use this strategy to find the root, child and parents of the tree.\n",
    "\n",
    "3. As we discussed in task 5, the correctness of the algorithm lies on the assumption that no random mutation can cause a stronger non-parental edges then a parental edges. As mutation is random, there is a chance that it could be happen, which will make our greedy strategy (strongest edge = parental edge) not optimized. That could lead a wrong genealogy tree. Although this algorithm can give a warning and continue adding the edges to make a connected graph, it cannot detect the exact non-parental strong edge and can return an invalid genealogy tree (i.e. one parent has 3 children etc.)\n",
    "\n",
    "4. When the assumption fails, in order to make a connected graph, we will continue adding edges and in worst possible case, we may need to add all the edges remaining. This will make our graph worse and also decrease the efficiency of the program."
   ]
  },
  {
   "cell_type": "markdown",
   "metadata": {},
   "source": [
    "**Improvement**\n",
    "\n",
    "1. One major area to improve is to make the output more efficient. Instead of just returning an undirected graph, it will be better, if we can make a binary tree and add the strings based on their strongest edges and return the root of the node. Having a binary tree data structure as an output will allow us to invest the tree further more easily. For example, we can then easily find the nodes at each level, the height of the tree, the directed edges of the tree etc.\n",
    "\n",
    "2. It will be useful, if we can still make a genealogy tree, when our first assumption is not satisfied. If we can identify which edge(s) are the potential non-parent edges (i.e. form a triangle in the tree), we can try to delete one of them at a time and find the max_depth of the remaining tree. Then we can finalize the tree by removing the edge which ensure the lowest height of the tree."
   ]
  },
  {
   "cell_type": "markdown",
   "metadata": {
    "colab_type": "text",
    "deletable": false,
    "editable": false,
    "id": "Tt1w7mTXovi7",
    "nbgrader": {
     "cell_type": "markdown",
     "checksum": "0f91394da1434eefa1f4366a02dd703e",
     "grade": false,
     "grade_id": "cell-99b74e2bf6d4f715",
     "locked": true,
     "schema_version": 3,
     "solution": false,
     "task": false
    }
   },
   "source": [
    "## Complexity Analysis\n",
    "\n",
    "Computational complexity of our solution to produce genealogy binary trees. \n",
    "\n",
    "Let denote $M$ to be the length of a gene, and $N$ the number of genes."
   ]
  },
  {
   "cell_type": "markdown",
   "metadata": {
    "colab_type": "text",
    "deletable": false,
    "id": "EjdUJD5bovi8",
    "nbgrader": {
     "cell_type": "markdown",
     "checksum": "3c77f529d443c6d7503ab53c7746d29f",
     "grade": true,
     "grade_id": "cell-4c388fb7ced4f3bf",
     "locked": false,
     "points": 0,
     "schema_version": 3,
     "solution": true,
     "task": false
    }
   },
   "source": [
    "**Time Complexity**\n",
    "\n",
    "Let's consider the complexity of each part of our algorithm one by one.\n",
    "\n",
    "1. creating the relative gene matrix:\n",
    "\n",
    "Here, we use the relative_lcs_len function which used the function longest_common_sequence. In the longest_common_sequence function, we used dynamic programming and recursively find the LCS length. We made a $m \\times n$ matrix and fill the value of each element of the table and return the last row last column value. As to store one element, we just checked if $x[i] == y[j]$, which is $O(1)$, the filling out of the full table has the complexity $O(mn)$, where m and n are the length of the string.\n",
    "\n",
    "Here given, that the length of a gene is $M$. So complexity of longest_common_sequence, $O(M^2)$.\n",
    "\n",
    "relative_lcs_len used longest_common_sequence once, so it also has complexity $O(M^2)$.\n",
    "\n",
    "While creating the relative gene matrix, we need to fill in the $N\\times N$ matrix, where $N$ is the number of genes in the string. To fill a single element we used relative_lcs_len of $O(M^2)$.\n",
    "\n",
    "So, total complexity, $O(N^2 M^2)$\n"
   ]
  },
  {
   "cell_type": "markdown",
   "metadata": {},
   "source": [
    "2. Adding edges to the graph\n",
    "\n",
    "To find the strongest edge, we used np.argmax() function. It go through the every column and every edge to find the maximum number and return its index, so its complexity is $O(N^2)$. Then np.unravel convert the flatten index in the shape of the matrix in constant time, O(1).\n",
    "\n",
    "Now now we need to check how many times we want np.argmax to work or how many edges we want to add in the graph.\n",
    "\n",
    "Firstly, we add stronger edge of each of the string, means N edge total.\n",
    "\n",
    "Then, we take the upper triangle matrix and find the remaining stronger edges until the distinct edge number equals N-1. In worst case, we can assume among the edge added first time (N-2) was in the lower triangle, thus we are taking these (N-2) again and then take one last one. So in worst case it will be O(n) choice again.\n",
    "\n",
    "3rd, **only if we don't have a connected graph yet and connected_graph = True,** we will add more edges. In worst case we will add all the remaining edges of the matrix, thus $O(N^2)$ edge.\n",
    "\n",
    "Together, we can say, at the worst possible case, the number of edge need to add will be  $O(N^2)$\n",
    "\n",
    "As adding each edge takes $O(N^2)$\n",
    "\n",
    "Total complexity $O(N^4)$"
   ]
  },
  {
   "cell_type": "markdown",
   "metadata": {},
   "source": [
    "Adding both of them together, complexity = $O(N^2 M^2 + N^4)$\n",
    "\n",
    "Now $N$ is the number of string and $M$ is the number of letters in gene. So, when $M > N \\Rightarrow M^2 > N^2$, our complexity will be $O(N^2 M^2)$. \n",
    "\n",
    "But if $M < N \\Rightarrow M^2 < N^2$, our complexity in the worst possible case will be $O(N^4)$. If we surely know that $M < N\\Rightarrow M^2 < N$, we can make the argument 'connected_graph' = False, then the complexity for adding the edge will be $O(N^3)$, thus the total complexity will be $O(N^3).$"
   ]
  },
  {
   "cell_type": "markdown",
   "metadata": {},
   "source": [
    "**Space Complexity:**\n",
    "\n",
    "We are using a $NxN$ matrix to store the relative LCS length.\n",
    "\n",
    "Then for finding each LCS length, we are using a $MxM$ matrix. But we don't need all the lcs to be counted at the same time. So we can reuse the $MxM$ table to calculate LCS of another pair after storing one lcs length in the $NxN$ table. \n",
    "\n",
    "So, our space complexity is $O(M^2 + N^2)$\n",
    "\n"
   ]
  },
  {
   "cell_type": "markdown",
   "metadata": {
    "colab_type": "text",
    "deletable": false,
    "editable": false,
    "id": "Y4PJ-A-Zovi9",
    "nbgrader": {
     "cell_type": "markdown",
     "checksum": "f62fcac6f8558d22f52a613376af012a",
     "grade": false,
     "grade_id": "cell-573aae17ca2dc9ad",
     "locked": true,
     "schema_version": 3,
     "solution": false,
     "task": false
    }
   },
   "source": [
    "## Mutation Probabilities\n",
    "\n",
    "How would you estimate the probabilities of insertions, deletions, and mutations, $p_i$, $p_d$, and $p_c$, respectively? (Hint: It is obvious that you don’t have enough data to obtain meaningful estimates for large datasets, but this small dataset has enough information for you to intuitively formulate estimates for $p_i$, $p_d$, and $p_c$.) Make sure you include a working Python estimation that would take your algorithmic strategy into practice. If you obtain estimates for these probabilities, please critically assess the results you obtained. \n"
   ]
  },
  {
   "cell_type": "markdown",
   "metadata": {},
   "source": [
    "Assumptions:\n",
    "\n",
    "1. If the len(parent) > len(child), the extra letters are deleted from parent, thus n(deletion) = len(parent) - len(child) \n",
    "2. If the len(parent) < len(child), the extra letters are inserted to the parent, thus n(insertion) = len(child) - len(parent)\n",
    "3. All other change in parent and child are caused by changed mutation"
   ]
  },
  {
   "cell_type": "code",
   "execution_count": 74,
   "metadata": {},
   "outputs": [],
   "source": [
    "def mutation_rate(x,y):\n",
    "    \"\"\"\n",
    "    Returns the 3 mutation rate (insertion, deletion and changing) \n",
    "    for a single pair of gene\n",
    "    \n",
    "    Inputs: \n",
    "    x = parent gene\n",
    "    y = child gene\n",
    "    \n",
    "    Outputs:\n",
    "    List: prob = a 3 element array containing the probability of \n",
    "    insertion, deletion and changing mutation respectively\n",
    "    \"\"\"\n",
    "    \n",
    "    # length of the LCS\n",
    "    lcs_len = longest_common_subsequence(x,y)\n",
    "    \n",
    "    if(len(x) >= len(y)):\n",
    "        insert = 0\n",
    "        delete = len(x) - len(y)\n",
    "        # find the elements which are exactly matched\n",
    "        match = sum(np.array(list(x[:len(y)])) == np.array(list(y)))\n",
    "        changing = len(y) - match\n",
    "    \n",
    "    else: \n",
    "        delete = 0\n",
    "        insert = len(y) - len(x)\n",
    "        # find the elements which are exactly matched\n",
    "        match = sum(np.array(list(x)) == np.array(list(y[:len(x)])))\n",
    "        changing = len(x) - match\n",
    "    \n",
    "    prob = [insert/len(x), delete/len(x), changing/len(x)]\n",
    "    \n",
    "    return prob"
   ]
  },
  {
   "cell_type": "markdown",
   "metadata": {},
   "source": [
    "**Improvement 1**\n",
    "\n",
    "In last cell, we are assuming all the remaining changes are by mutation, but by insert or delete letter from the inside of the gene, we can shift it forward or backwards, thus insertion/deletion can be more efficient then only mutation.\n",
    "\n",
    "So, our assumptions now:\n",
    "\n",
    "1. We delete the necessary letters from the parent string to create the LCS: n(deletion) = len(parent) - len(lcs)\n",
    "2. Then we insert new letters into LCS to create the child string: n(insertion) = len(parent) - len(lcs)\n",
    "3. We compare the total number of mutation in this method and the last method and take the minimum one."
   ]
  },
  {
   "cell_type": "code",
   "execution_count": 78,
   "metadata": {},
   "outputs": [],
   "source": [
    "def mutation_rate_2(x,y):\n",
    "    \"\"\"\n",
    "    Returns the 3 mutation rate (insertion, deletion and changing) \n",
    "    for a single pair of gene\n",
    "    \n",
    "    Inputs: \n",
    "    x = parent gene\n",
    "    y = child gene\n",
    "    \n",
    "    Outputs:\n",
    "    List: prob = a 3 element array containing the probability of \n",
    "    insertion, deletion and changing mutation respectively\n",
    "    \"\"\"\n",
    "    \n",
    "    # length of the LCS\n",
    "    lcs_len = longest_common_subsequence(x,y)\n",
    "    \n",
    "    \n",
    "    ## Method 1\n",
    "    \n",
    "    if(len(x) >= len(y)):\n",
    "        insert1 = 0\n",
    "        delete1 = len(x) - len(y)\n",
    "        # find the elements which are exactly matched\n",
    "        match = sum(np.array(list(x[:len(y)])) == np.array(list(y)))\n",
    "        changing1 = len(y) - match\n",
    "    \n",
    "    else: \n",
    "        delete1 = 0\n",
    "        insert1 = len(y) - len(x)\n",
    "        # find the elements which are exactly matched\n",
    "        match = sum(np.array(list(x)) == np.array(list(y[:len(x)])))\n",
    "        changing1 = len(x) - match\n",
    "        \n",
    "    ## Method 2\n",
    "    \n",
    "    delete2 = len(x) - lcs_len\n",
    "    insert2 = len(y) - lcs_len\n",
    "    \n",
    "    if(delete1 + insert1 + changing1 <= delete2 + insert2):\n",
    "        delete = delete1\n",
    "        insert = insert1\n",
    "        changing = changing1\n",
    "    else:\n",
    "        delete = delete2\n",
    "        insert = insert2\n",
    "        changing = 0\n",
    "    \n",
    "    prob = [insert/len(x), delete/len(x), changing/len(x)]\n",
    "    \n",
    "    return prob"
   ]
  },
  {
   "cell_type": "markdown",
   "metadata": {},
   "source": [
    "**Improvement 2:**\n",
    "\n",
    "In method 2, we are ignoring the changed mutation completely. But an optimal way to mutate a string to another will contain insert/delete/changed all together. So, we will use the idea of 'edit_distance': the minimum number of operation needed for changing one string to another. \n",
    "\n",
    "We will use dynamic programming, where we will have a mxn table A (where, m = len(x), n = len(y)), where $A_{i,j}$ entry will give the edit_distance to change $x[:i]$ to $y[:j]$"
   ]
  },
  {
   "cell_type": "code",
   "execution_count": 89,
   "metadata": {},
   "outputs": [],
   "source": [
    "def edit_distance(x,y):\n",
    "    \"\"\"\n",
    "    Returns the edit_distance_table A, where A_{i,j} entry \n",
    "    will give the edit_distance to change x[:i] to y[:j]\n",
    "    \"\"\"\n",
    "    \n",
    "    # intitialize an empty table \n",
    "    A = np.zeros((len(x)+1, len(y)+1))\n",
    "  \n",
    "    # first row represents edit_distance of x[:0] and y[:j],\n",
    "    # so we will just insert the letters of y in an empty string\n",
    "    A[0] = np.array(range(len(y)+1))\n",
    "    \n",
    "      \n",
    "    # first column represents edit_distance of x[:0] and y[:j],\n",
    "    # so we will just insert the letters of y in an empty string\n",
    "    A[:,0] = np.array(range(len(x)+1))\n",
    "    \n",
    "    # go through the every element of x and y \n",
    "    for i in range(1, len(x)+1): \n",
    "        for j in range(1, len(y) + 1):  \n",
    "  \n",
    "            # If last letters are same, edit distance will stay the same \n",
    "            if x[i-1] == y[j-1]: \n",
    "                A[i][j] = A[i-1][j-1] \n",
    "  \n",
    "            # If last letters are different, consider all three possibilities\n",
    "            # and take the minimal cost\n",
    "            else: \n",
    "                A[i][j] = 1 + min(A[i][j-1],        # Insertion mutation \n",
    "                                   A[i-1][j],        # Deletion mutation\n",
    "                                   A[i-1][j-1])    # Changed mutation\n",
    "  \n",
    "    return A"
   ]
  },
  {
   "cell_type": "code",
   "execution_count": 91,
   "metadata": {},
   "outputs": [
    {
     "name": "stdout",
     "output_type": "stream",
     "text": [
      "[[ 0.  1.  2. ... 52. 53. 54.]\n",
      " [ 1.  0.  1. ... 51. 52. 53.]\n",
      " [ 2.  1.  1. ... 50. 51. 52.]\n",
      " ...\n",
      " [50. 49. 48. ... 17. 18. 19.]\n",
      " [51. 50. 49. ... 18. 17. 18.]\n",
      " [52. 51. 50. ... 19. 18. 17.]]\n"
     ]
    }
   ],
   "source": [
    "print(edit_distance(a,b))"
   ]
  },
  {
   "cell_type": "markdown",
   "metadata": {},
   "source": [
    "Now we will use the edit_distance table to understand the minimum number of mutation.\n",
    "\n",
    "1. We will start from the last character of both string.\n",
    "2. If the letters are same, we will ignore and go back one letter behind for both of them\n",
    "3. Otherwise, we will check which entry has a value less then 1: \n",
    "    - If the 'NW' has 1 less value, it is 'changed mutation'\n",
    "    - If the 'N' has 1 less value, it is 'deletion mutation'\n",
    "    - If the 'W' has 1 less value, it is 'insertion mutation'"
   ]
  },
  {
   "cell_type": "code",
   "execution_count": 95,
   "metadata": {},
   "outputs": [],
   "source": [
    "def mutation_rate_3(x,y):\n",
    "    \"\"\"\n",
    "    Returns the 3 mutation rate (insertion, deletion and changing) \n",
    "    for a single pair of gene\n",
    "    \n",
    "    Inputs: \n",
    "    x = parent gene\n",
    "    y = child gene\n",
    "    \n",
    "    Outputs:\n",
    "    List: prob = a 3 element array containing the probability of \n",
    "    insertion, deletion and changing mutation respectively\n",
    "    \"\"\"\n",
    "    \n",
    "    i = len(x)\n",
    "    j = len(y)\n",
    "    insert = 0   \n",
    "    delete = 0  \n",
    "    changing = 0  \n",
    "    \n",
    "    A = edit_distance(x,y)\n",
    "    \n",
    "    while i > 0 and j > 0:\n",
    "        # If the letters are same, we will ignore and go back one letter behind for both of them\n",
    "        if x[i - 1] == y[j - 1]:\n",
    "            i -= 1\n",
    "            j -= 1\n",
    " \n",
    "        else:  \n",
    "            decreased_value = A[i][j] - 1\n",
    "            # If the 'NW' has 1 less value, it is 'changed mutation'\n",
    "            if decreased_value == A[i - 1][j - 1]:  \n",
    "                changing += 1\n",
    "                i -= 1\n",
    "                j -= 1\n",
    "            \n",
    "            # If the 'W' has 1 less value, it is 'insertion mutation'\n",
    "            elif decreased_value == A[i][j - 1]:    \n",
    "                insert += 1\n",
    "                j -= 1\n",
    "            \n",
    "            # Otherwise, if the 'N' has 1 less value, it is 'deletion mutation'\n",
    "            else:                                     \n",
    "                delete += 1\n",
    "                i -= 1\n",
    "                \n",
    "    prob = [insert/len(x), delete/len(x), changing/len(x)]\n",
    "    \n",
    "    return prob"
   ]
  },
  {
   "cell_type": "code",
   "execution_count": 96,
   "metadata": {},
   "outputs": [
    {
     "data": {
      "text/plain": [
       "[0.057692307692307696, 0.038461538461538464, 0.21153846153846154]"
      ]
     },
     "execution_count": 96,
     "metadata": {},
     "output_type": "execute_result"
    }
   ],
   "source": [
    "# testing\n",
    "mutation_rate_3(a,b)"
   ]
  },
  {
   "cell_type": "code",
   "execution_count": 97,
   "metadata": {},
   "outputs": [],
   "source": [
    "def total_mutation_rate(set_string, edge_list):\n",
    "    \"\"\"\n",
    "    Returns the total mutation rate of a geneology tree\n",
    "    \n",
    "    Input:\n",
    "    set_string = list of all the genes\n",
    "    edge_list = list of edges (x,y), where x=parent and y=child \n",
    "    \n",
    "    Output:\n",
    "    \n",
    "    \"\"\"\n",
    "    prob = np.zeros(3)\n",
    "    \n",
    "    for edge in edge_list:\n",
    "        x, y = set_string[edge[0]], set_string[edge[1]]\n",
    "        \n",
    "        prob += np.array(mutation_rate_3(x,y))\n",
    "    \n",
    "    return prob/len(edge_list)"
   ]
  },
  {
   "cell_type": "code",
   "execution_count": 98,
   "metadata": {},
   "outputs": [],
   "source": [
    "def edgelist(tree):\n",
    "    '''\n",
    "    Returns a directed edge_list from a binarytree\n",
    "    '''\n",
    "    \n",
    "    edges = []\n",
    "    \n",
    "    for node in tree.levelorder:\n",
    "        \n",
    "        if node.left:\n",
    "            edges.append((node.value, node.left.value))\n",
    "        if node.right:\n",
    "            edges.append((node.value, node.right.value))\n",
    "                \n",
    "    return edges"
   ]
  },
  {
   "cell_type": "code",
   "execution_count": 99,
   "metadata": {},
   "outputs": [
    {
     "name": "stdout",
     "output_type": "stream",
     "text": [
      "\n",
      "    __6__\n",
      "   /     \\\n",
      "  0       1\n",
      " / \\     / \\\n",
      "2   3   4   5\n",
      "\n"
     ]
    }
   ],
   "source": [
    "# our set_string\n",
    "gene_tree_values = [6,0,1,2,3,4,5]\n",
    "tree = build(gene_tree_values)\n",
    "print(tree)\n"
   ]
  },
  {
   "cell_type": "code",
   "execution_count": 100,
   "metadata": {},
   "outputs": [
    {
     "data": {
      "text/plain": [
       "[(6, 0), (6, 1), (0, 2), (0, 3), (1, 4), (1, 5)]"
      ]
     },
     "execution_count": 100,
     "metadata": {},
     "output_type": "execute_result"
    }
   ],
   "source": [
    "edge_list = edgelist(tree)\n",
    "edge_list"
   ]
  },
  {
   "cell_type": "code",
   "execution_count": 101,
   "metadata": {},
   "outputs": [
    {
     "name": "stdout",
     "output_type": "stream",
     "text": [
      "\n",
      "Mutation Probabilities: \n",
      "Insertion: 7.01%, \n",
      "Deletion: 4.130000000000001%, \n",
      "Changed: 10.59%\n"
     ]
    }
   ],
   "source": [
    "prob = total_mutation_rate(set_string, edge_list).round(4)\n",
    "\n",
    "# printing the total mutation rate\n",
    "print('\\nMutation Probabilities: \\nInsertion: {}%, \\nDeletion: {}%, \\nChanged: {}%'\n",
    "      .format(prob[0]*100, prob[1]*100, prob[2]*100))"
   ]
  },
  {
   "cell_type": "markdown",
   "metadata": {
    "colab_type": "text",
    "deletable": false,
    "id": "iWHSiQXvovi-",
    "nbgrader": {
     "cell_type": "markdown",
     "checksum": "292eef12ce17b22d973c4fc8bf162b58",
     "grade": true,
     "grade_id": "cell-5e57033866b2d7e6",
     "locked": false,
     "points": 0,
     "schema_version": 3,
     "solution": true,
     "task": false
    }
   },
   "source": [
    "**HC Appendix:**\n",
    "\n",
    "#strategize: In Task 5, I analyzed the advantages, limitations, strength and weakness of each of the strategy, then chose the optimal strategy to implement in python. Again discussed it's limitations, improvements, thought process and assumptions behind the strategy and finally discussed possible future improvements.\n",
    "\n",
    "#designthinking: I used iterative process and build my new works upon my previous work. From the local strategy 1, I build up 2, then the heatmap analysis gave the basis of global strategy. Then I also tried to improve over the assumptions and detailed the future improvements.\n",
    "\n",
    "#communicationdesign: I used heatmap, binarytree, networkx graph, hand-drawn graph efficiently with appropriate color and labeling to ensure that it supports my codes, discussion and algorithms.\n",
    "\n",
    "#breakitdown: I broke the problems in tractable subproblems and complete and discussed one by one the subproblems. In Task 5, I explained my assumptions, thought process and work on each one of them to build up new work."
   ]
  }
 ],
 "metadata": {
  "colab": {
   "name": "CS110 Assignment 4",
   "provenance": []
  },
  "gist": {
   "data": {
    "description": "Downloads/Mahmudunnobe_CS110_gene_mutation/CS110_Assignment_4.ipynb",
    "public": false
   },
   "id": ""
  },
  "kernelspec": {
   "display_name": "Python 3.6.8 ('base')",
   "language": "python",
   "name": "python3"
  },
  "language_info": {
   "codemirror_mode": {
    "name": "ipython",
    "version": 3
   },
   "file_extension": ".py",
   "mimetype": "text/x-python",
   "name": "python",
   "nbconvert_exporter": "python",
   "pygments_lexer": "ipython3",
   "version": "3.6.8"
  },
  "latex_envs": {
   "LaTeX_envs_menu_present": true,
   "autoclose": false,
   "autocomplete": true,
   "bibliofile": "biblio.bib",
   "cite_by": "apalike",
   "current_citInitial": 1,
   "eqLabelWithNumbers": true,
   "eqNumInitial": 1,
   "hotkeys": {
    "equation": "Ctrl-E",
    "itemize": "Ctrl-I"
   },
   "labels_anchors": false,
   "latex_user_defs": false,
   "report_style_numbering": false,
   "user_envs_cfg": false
  },
  "vscode": {
   "interpreter": {
    "hash": "5c9af5bf861f622e259cbb5c3fcf8912a684acabc7d57c0ec1c076ab03a2eda7"
   }
  }
 },
 "nbformat": 4,
 "nbformat_minor": 1
}
