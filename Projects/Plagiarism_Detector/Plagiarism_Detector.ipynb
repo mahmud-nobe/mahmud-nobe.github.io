{
  "nbformat": 4,
  "nbformat_minor": 0,
  "metadata": {
    "colab": {
      "name": "CS110 Final Project.ipynb",
      "provenance": []
    },
    "kernelspec": {
      "name": "python3",
      "display_name": "Python 3"
    }
  },
  "cells": [
    {
      "cell_type": "code",
      "metadata": {
        "id": "7d45EmKkjU9P",
        "colab_type": "code",
        "colab": {
          "base_uri": "https://localhost:8080/",
          "height": 71
        },
        "outputId": "a930572b-2f30-4bb6-b7f7-9d37adbe7026"
      },
      "source": [
        "import numpy as np\n",
        "import matplotlib.pyplot as plt\n",
        "import seaborn as sns\n",
        "import pandas as pd"
      ],
      "execution_count": 1,
      "outputs": [
        {
          "output_type": "stream",
          "text": [
            "/usr/local/lib/python3.6/dist-packages/statsmodels/tools/_testing.py:19: FutureWarning: pandas.util.testing is deprecated. Use the functions in the public API at pandas.testing instead.\n",
            "  import pandas.util.testing as tm\n"
          ],
          "name": "stderr"
        }
      ]
    },
    {
      "cell_type": "code",
      "metadata": {
        "id": "lJc_vQObIGRH",
        "colab_type": "code",
        "colab": {}
      },
      "source": [
        ""
      ],
      "execution_count": 0,
      "outputs": []
    },
    {
      "cell_type": "code",
      "metadata": {
        "id": "GLtg5ymLjebg",
        "colab_type": "code",
        "colab": {}
      },
      "source": [
        "# rolling hash Function\n",
        "def get_int(x, base = 128):\n",
        "    \"\"\"\n",
        "    Returns the integer value of a string\n",
        "    using a specific base\n",
        "    Input: \n",
        "    x: a string\n",
        "    base: the base of the integer we want to \n",
        "    convert it into. Default is 128\n",
        "    \"\"\"\n",
        "\n",
        "    int_x = 0\n",
        "    n = len(x)-1\n",
        "\n",
        "    # the first digit is the most significant digit\n",
        "    # so will be multiplied by len(x)-1\n",
        "    # the next letters are lesser significant\n",
        "    for i in range(len(x)):\n",
        "        int_x += ord(x[i])*base**n\n",
        "        n -= 1\n",
        "\n",
        "    return int_x "
      ],
      "execution_count": 0,
      "outputs": []
    },
    {
      "cell_type": "code",
      "metadata": {
        "id": "hoQPsXoUBTwY",
        "colab_type": "code",
        "outputId": "bb574cf5-2440-4229-b9bb-7a94dae6670b",
        "colab": {
          "base_uri": "https://localhost:8080/",
          "height": 34
        }
      },
      "source": [
        "get_int('day')"
      ],
      "execution_count": 10,
      "outputs": [
        {
          "output_type": "execute_result",
          "data": {
            "text/plain": [
              "1650937"
            ]
          },
          "metadata": {
            "tags": []
          },
          "execution_count": 10
        }
      ]
    },
    {
      "cell_type": "code",
      "metadata": {
        "id": "JDkps_7llpw4",
        "colab_type": "code",
        "outputId": "2c7df012-dd50-49f4-bf2d-0db548f9f65a",
        "colab": {
          "base_uri": "https://localhost:8080/",
          "height": 51
        }
      },
      "source": [
        "print(get_int('aaaaa'))\n",
        "ord('z'), ord('A')"
      ],
      "execution_count": 11,
      "outputs": [
        {
          "output_type": "stream",
          "text": [
            "26243264737\n"
          ],
          "name": "stdout"
        },
        {
          "output_type": "execute_result",
          "data": {
            "text/plain": [
              "(122, 65)"
            ]
          },
          "metadata": {
            "tags": []
          },
          "execution_count": 11
        }
      ]
    },
    {
      "cell_type": "code",
      "metadata": {
        "id": "YL5WoO7zTyJp",
        "colab_type": "code",
        "colab": {}
      },
      "source": [
        "def rh_get_match(x, y, k):\n",
        "    \"\"\"\n",
        "    Finds all common length-k substrings of x and y\n",
        "    using rolling hashing on both strings.\n",
        "    Input:\n",
        "    - x, y: strings\n",
        "    - k: int, length of substring\n",
        "    Output:\n",
        "    - A list of tuples (i, j) where x[i:i+k] = y[j:j+k]\n",
        "    \"\"\"\n",
        "    base = 128\n",
        "    size = max(len(x)**2 - 1, 10**6 + 3)\n",
        "    hash_table = [[] for i in range(size)]\n",
        "\n",
        "    if(k > len(x) or k > len(y)):\n",
        "        print('Warning: substring length is larger than the string length')\n",
        "        return []\n",
        "        \n",
        "    # hash function to hash item and store accordingly\n",
        "    key = get_int(x[:k]) % size\n",
        "    hash_table[key].append((0, x[:k]))\n",
        "\n",
        "    new_key = key\n",
        "    for i in range(len(x)-k):\n",
        "        \n",
        "        # adding the next letter\n",
        "        new_key = (new_key * base + ord(x[k+i])) % size\n",
        "\n",
        "        # removing the first letter\n",
        "        new_key = (new_key - ord(x[i])*(base**k % size) ) % size\n",
        "\n",
        "        # store the item at corresponding slot\n",
        "        hash_table[new_key].append((i+1, x[i+1: k+i+1]))\n",
        "\n",
        "    common_string = []\n",
        "\n",
        "    ### checking with the substrings of y\n",
        "\n",
        "    # compute the hash value for first substring in y\n",
        "    checking_key = get_int(y[:k]) % size\n",
        "    \n",
        "    # if any tuple exist in the slot, go through all the stored tuple\n",
        "    # and check their 2nd element, if match, take their 'x-index' from the\n",
        "    # first element and store it with 'y-index'.\n",
        "    if(hash_table[checking_key]):\n",
        "\n",
        "        for j in range(0, len(hash_table[checking_key])):\n",
        "            stored_word = hash_table[checking_key][j]\n",
        "            if stored_word[1] == y[:k]:\n",
        "\n",
        "                common_string.append((stored_word[0], 0))\n",
        "\n",
        "    # using rolling hashing to find the hash value for all other substring\n",
        "    new_key = checking_key\n",
        "    for i in range(len(y)-k):\n",
        "\n",
        "        # adding the next letter\n",
        "        new_key = (new_key * base + ord(y[k+i])) % size\n",
        "\n",
        "        # removing the first letter\n",
        "        new_key = (new_key - ord(y[i])*(base**k % size) ) % size\n",
        "\n",
        "\n",
        "        # if any tuple exist in the slot, go through all the stored tuple\n",
        "        # and check their 2nd element, if match, take their 'x-index' from the\n",
        "        # first element and store it with 'y-index'.\n",
        "        if(hash_table[new_key]):\n",
        "\n",
        "            for j in range(0, len(hash_table[new_key])):\n",
        "                stored_word = hash_table[new_key][j]\n",
        "                if stored_word[1] == y[i+1: k+i+1]:\n",
        "\n",
        "                    common_string.append((stored_word[0], i+1))\n",
        "\n",
        "    return common_string\n",
        "    ## your code here"
      ],
      "execution_count": 0,
      "outputs": []
    },
    {
      "cell_type": "code",
      "metadata": {
        "id": "mUHtdpNz1JuW",
        "colab_type": "code",
        "outputId": "5ec60149-b49a-4c37-dc72-18b82cfd0d20",
        "colab": {
          "base_uri": "https://localhost:8080/",
          "height": 34
        }
      },
      "source": [
        "# test 1\n",
        "x, y, k = 'todayisourfinalday', 'thisisfriday', 3\n",
        "print(rh_get_match(x,y,k))\n"
      ],
      "execution_count": 13,
      "outputs": [
        {
          "output_type": "stream",
          "text": [
            "[(2, 9), (15, 9)]\n"
          ],
          "name": "stdout"
        }
      ]
    },
    {
      "cell_type": "code",
      "metadata": {
        "id": "ZPA4CJQ15zxN",
        "colab_type": "code",
        "colab": {
          "base_uri": "https://localhost:8080/",
          "height": 34
        },
        "outputId": "305a6c24-13c6-472d-f810-03550e12cbbb"
      },
      "source": [
        "# test 2 - same word\n",
        "x, y, k = 'stayhometobesafe', 'stayhometobesafe', 3\n",
        "print(rh_get_match(x,y,k))\n"
      ],
      "execution_count": 14,
      "outputs": [
        {
          "output_type": "stream",
          "text": [
            "[(0, 0), (1, 1), (2, 2), (3, 3), (4, 4), (5, 5), (6, 6), (7, 7), (8, 8), (9, 9), (10, 10), (11, 11), (12, 12), (13, 13)]\n"
          ],
          "name": "stdout"
        }
      ]
    },
    {
      "cell_type": "code",
      "metadata": {
        "id": "CPT62olH6Xt4",
        "colab_type": "code",
        "colab": {
          "base_uri": "https://localhost:8080/",
          "height": 54
        },
        "outputId": "bb3a7568-e64f-4ddd-fe85-5c844ae104e2"
      },
      "source": [
        "# test 3 - same word same letter\n",
        "x, y, k = 'bbbbbbbb', 'bbbbbbbb', 4\n",
        "print(rh_get_match(x,y,k))"
      ],
      "execution_count": 15,
      "outputs": [
        {
          "output_type": "stream",
          "text": [
            "[(0, 0), (1, 0), (2, 0), (3, 0), (4, 0), (0, 1), (1, 1), (2, 1), (3, 1), (4, 1), (0, 2), (1, 2), (2, 2), (3, 2), (4, 2), (0, 3), (1, 3), (2, 3), (3, 3), (4, 3), (0, 4), (1, 4), (2, 4), (3, 4), (4, 4)]\n"
          ],
          "name": "stdout"
        }
      ]
    },
    {
      "cell_type": "code",
      "metadata": {
        "id": "Q5KvVGdz6e_M",
        "colab_type": "code",
        "colab": {
          "base_uri": "https://localhost:8080/",
          "height": 51
        },
        "outputId": "ed81bb5f-6f72-4310-b238-2ca255d8379c"
      },
      "source": [
        "# test 4 - one string is empty\n",
        "x, y, k = '','bbbbbbbb', 4\n",
        "rh_get_match(x,y,k)"
      ],
      "execution_count": 16,
      "outputs": [
        {
          "output_type": "stream",
          "text": [
            "Warning: substring length is larger than the string length\n"
          ],
          "name": "stdout"
        },
        {
          "output_type": "execute_result",
          "data": {
            "text/plain": [
              "[]"
            ]
          },
          "metadata": {
            "tags": []
          },
          "execution_count": 16
        }
      ]
    },
    {
      "cell_type": "code",
      "metadata": {
        "id": "z8-hfeGY62e9",
        "colab_type": "code",
        "colab": {
          "base_uri": "https://localhost:8080/",
          "height": 51
        },
        "outputId": "09d71b6e-6aff-4a45-d7b6-4f450e1fb5ab"
      },
      "source": [
        "# test 5 - the substring length is higher\n",
        "x, y, k = 'asdfgh','bbbbbbbb', 8\n",
        "rh_get_match(x,y,k)"
      ],
      "execution_count": 17,
      "outputs": [
        {
          "output_type": "stream",
          "text": [
            "Warning: substring length is larger than the string length\n"
          ],
          "name": "stdout"
        },
        {
          "output_type": "execute_result",
          "data": {
            "text/plain": [
              "[]"
            ]
          },
          "metadata": {
            "tags": []
          },
          "execution_count": 17
        }
      ]
    },
    {
      "cell_type": "markdown",
      "metadata": {
        "id": "WO_YpHtX8ZrJ",
        "colab_type": "text"
      },
      "source": [
        "#### Regular hashing"
      ]
    },
    {
      "cell_type": "code",
      "metadata": {
        "id": "Lu3N2sfM8a17",
        "colab_type": "code",
        "colab": {
          "base_uri": "https://localhost:8080/",
          "height": 51
        },
        "outputId": "14b7b2ed-f21c-4a16-fb6e-be3a9ccdcb46"
      },
      "source": [
        "# reading the words from the shakespeare file\n",
        "\n",
        "txt_file = open(\"t8.shakespeare.txt\", \"r\")\n",
        " \n",
        "entries = txt_file.read().split(' ')\n",
        "lines = [string.replace('\\n', '') for string in entries]\n",
        "all_text = [line for line in lines if line != '']\n",
        "print(len(all_text)) # all the word in shakespeare\n",
        "\n",
        "# joined all word together for using it as a sting\n",
        "full_text = \"\".join(x for x in all_text)\n",
        "full_text[100:200]"
      ],
      "execution_count": 19,
      "outputs": [
        {
          "output_type": "stream",
          "text": [
            "896183\n"
          ],
          "name": "stdout"
        },
        {
          "output_type": "execute_result",
          "data": {
            "text/plain": [
              "'fromtheirLibraryoftheFutureandShakespeareCDROMS.ProjectGutenbergoftenreleasesEtextsthatareNOTplacedi'"
            ]
          },
          "metadata": {
            "tags": []
          },
          "execution_count": 19
        }
      ]
    },
    {
      "cell_type": "code",
      "metadata": {
        "id": "3VjFKygR-MDG",
        "colab_type": "code",
        "colab": {}
      },
      "source": [
        "import math\n",
        "\n",
        "def frac(x):\n",
        "    '''\n",
        "    returns the fractional value of a float\n",
        "    '''\n",
        "    return x - math.floor(x)\n"
      ],
      "execution_count": 0,
      "outputs": []
    },
    {
      "cell_type": "code",
      "metadata": {
        "id": "BA4N67ds8bkk",
        "colab_type": "code",
        "colab": {}
      },
      "source": [
        "import time\n",
        "# comparing hash function with the previous one\n",
        "\n",
        "# store the key\n",
        "multiplication_hash = []\n",
        "divide_hash = []\n",
        "\n",
        "# storing hashing time\n",
        "hash_time = 0\n",
        "rolling_hash_time = 0\n",
        "\n",
        "for words in all_text:\n",
        "    \n",
        "    # multiplication method\n",
        "    size = 2**20\n",
        "    c = (math.sqrt(5) - 1)/2\n",
        "    start = time.time()\n",
        "    key = math.floor( size * frac(get_int(words) * c))\n",
        "    end = time.time()\n",
        "    hash_time += end - start # increase the time\n",
        "    multiplication_hash.append(key) # append the key\n",
        "\n",
        "    # multiplication method\n",
        "    size = 10**6 + 3\n",
        "    start = time.time()\n",
        "    key = get_int(words) % size\n",
        "    end = time.time()\n",
        "    rolling_hash_time += end - start # increase the time\n",
        "    divide_hash.append(key) # append the key\n",
        "    "
      ],
      "execution_count": 0,
      "outputs": []
    },
    {
      "cell_type": "code",
      "metadata": {
        "id": "Ho-0RzYf9ErI",
        "colab_type": "code",
        "colab": {
          "base_uri": "https://localhost:8080/",
          "height": 295
        },
        "outputId": "3c85cf6a-20be-45b9-d721-65dc5b10e848"
      },
      "source": [
        "sns.distplot(divide_hash)\n",
        "plt.xlabel('Key')\n",
        "plt.ylabel('Frequency')\n",
        "plt.title('Division Method')\n",
        "plt.show()"
      ],
      "execution_count": 26,
      "outputs": [
        {
          "output_type": "display_data",
          "data": {
            "image/png": "[encoded data removed]",
            "text/plain": [
              "<Figure size 432x288 with 1 Axes>"
            ]
          },
          "metadata": {
            "tags": [],
            "needs_background": "light"
          }
        }
      ]
    },
    {
      "cell_type": "code",
      "metadata": {
        "id": "XDOZ5Q_K9FHb",
        "colab_type": "code",
        "colab": {
          "base_uri": "https://localhost:8080/",
          "height": 295
        },
        "outputId": "5a8fe501-7ca7-4988-c93f-2c4ab24877ab"
      },
      "source": [
        "sns.distplot(multiplication_hash)\n",
        "plt.xlabel('Key')\n",
        "plt.ylabel('Frequency')\n",
        "plt.title('Multiplication Method') \n",
        "plt.show()"
      ],
      "execution_count": 27,
      "outputs": [
        {
          "output_type": "display_data",
          "data": {
            "image/png": "[encoded data removed]",
            "text/plain": [
              "<Figure size 432x288 with 1 Axes>"
            ]
          },
          "metadata": {
            "tags": [],
            "needs_background": "light"
          }
        }
      ]
    },
    {
      "cell_type": "code",
      "metadata": {
        "id": "w_4JZv4G9Jzf",
        "colab_type": "code",
        "colab": {
          "base_uri": "https://localhost:8080/",
          "height": 276
        },
        "outputId": "ebdc47c7-ae14-4d1a-95aa-b71992d9df4c"
      },
      "source": [
        "sns.barplot(x = ['Divide', 'Multiplication'], y = [rolling_hash_time/len(all_text), hash_time/len(all_text)])\n",
        "plt.ylabel('Hashing time')\n",
        "plt.show()"
      ],
      "execution_count": 28,
      "outputs": [
        {
          "output_type": "display_data",
          "data": {
            "image/png": "[encoded data removed]",
            "text/plain": [
              "<Figure size 432x288 with 1 Axes>"
            ]
          },
          "metadata": {
            "tags": [],
            "needs_background": "light"
          }
        }
      ]
    },
    {
      "cell_type": "code",
      "metadata": {
        "id": "cW2gptYCjrT_",
        "colab_type": "code",
        "colab": {}
      },
      "source": [
        "def regular_get_match(x, y, k):\n",
        "    \"\"\"\n",
        "    Finds all common length-k substrings of x and y\n",
        "    not using rolling hashing on both strings.\n",
        "    \n",
        "    Input:\n",
        "    - x, y: strings\n",
        "    - k: int, length of substring\n",
        "    Output:\n",
        "    - A list of tuples (i, j) where x[i:i+k] = y[j:j+k]\n",
        "    \"\"\"\n",
        "\n",
        "    # defining base, siz, c and hash table\n",
        "    base = 128\n",
        "    size = max(len(x)**2, 2**20)\n",
        "    c = (math.sqrt(5) - 1)/2\n",
        "    hash_table = [[] for i in range(size)]\n",
        "        \n",
        "    # hash function to hash the all substring and store acc. to the hash value\n",
        "    for i in range(len(x) - k + 1):\n",
        "\n",
        "        key = math.floor( size * frac(get_int(x[i: k+i]) * c))\n",
        "        hash_table[key].append((i, x[i: k+i]))\n",
        "\n",
        "    common_string = []\n",
        "\n",
        "    \n",
        "    ### checking with the substrings of y\n",
        "\n",
        "    # using regular hashing to find the hash value for all other substring\n",
        "    for i in range(len(y) - k + 1):\n",
        "        \n",
        "        checking_key = math.floor( size * frac(get_int(y[i: k+i]) * c))\n",
        "        \n",
        "        # if any tuple exist in the slot, go through all the stored tuple\n",
        "        # and check their 2nd element, if match, take their 'x-index' from the\n",
        "        # first element and store it with 'y-index'.\n",
        "        if(hash_table[checking_key]):\n",
        "\n",
        "            for j in range(0, len(hash_table[checking_key])):\n",
        "                stored_word = hash_table[checking_key][j]\n",
        "                if stored_word[1] == y[i: k+i]:\n",
        "                    common_string.append((stored_word[0], i))\n",
        "\n",
        "    return common_string\n",
        "    ## your code here"
      ],
      "execution_count": 0,
      "outputs": []
    },
    {
      "cell_type": "code",
      "metadata": {
        "colab_type": "code",
        "outputId": "ed07b425-a787-4468-d545-fe631ce0a8ae",
        "id": "N3CriKBO7xQP",
        "colab": {
          "base_uri": "https://localhost:8080/",
          "height": 34
        }
      },
      "source": [
        "# test 1\n",
        "x, y, k = 'todayisourfinalday', 'thisisfriday', 3\n",
        "print(regular_get_match(x,y,k))\n"
      ],
      "execution_count": 30,
      "outputs": [
        {
          "output_type": "stream",
          "text": [
            "[(2, 9), (15, 9)]\n"
          ],
          "name": "stdout"
        }
      ]
    },
    {
      "cell_type": "code",
      "metadata": {
        "colab_type": "code",
        "outputId": "b9e578c3-f79a-4abe-c064-8c6da5dc353f",
        "id": "gCHpVIz_7xQT",
        "colab": {
          "base_uri": "https://localhost:8080/",
          "height": 34
        }
      },
      "source": [
        "# test 2 - same word\n",
        "x, y, k = 'stayhometobesafe', 'stayhometobesafe', 3\n",
        "print(regular_get_match(x,y,k))\n"
      ],
      "execution_count": 31,
      "outputs": [
        {
          "output_type": "stream",
          "text": [
            "[(0, 0), (1, 1), (2, 2), (3, 3), (4, 4), (5, 5), (6, 6), (7, 7), (8, 8), (9, 9), (10, 10), (11, 11), (12, 12), (13, 13)]\n"
          ],
          "name": "stdout"
        }
      ]
    },
    {
      "cell_type": "code",
      "metadata": {
        "colab_type": "code",
        "outputId": "9f914454-0299-46ca-88b2-5650b752696f",
        "id": "rb-xXa4t7xQW",
        "colab": {
          "base_uri": "https://localhost:8080/",
          "height": 54
        }
      },
      "source": [
        "# test 3 - same word same letter\n",
        "x, y, k = 'bbbbbbbb', 'bbbbbbbb', 4\n",
        "print(regular_get_match(x,y,k))"
      ],
      "execution_count": 32,
      "outputs": [
        {
          "output_type": "stream",
          "text": [
            "[(0, 0), (1, 0), (2, 0), (3, 0), (4, 0), (0, 1), (1, 1), (2, 1), (3, 1), (4, 1), (0, 2), (1, 2), (2, 2), (3, 2), (4, 2), (0, 3), (1, 3), (2, 3), (3, 3), (4, 3), (0, 4), (1, 4), (2, 4), (3, 4), (4, 4)]\n"
          ],
          "name": "stdout"
        }
      ]
    },
    {
      "cell_type": "code",
      "metadata": {
        "colab_type": "code",
        "outputId": "5a1330a2-7aed-448e-8d37-f44da59613fe",
        "id": "AUPy5qCH7xQZ",
        "colab": {
          "base_uri": "https://localhost:8080/",
          "height": 34
        }
      },
      "source": [
        "# test 4 - one string is empty\n",
        "x, y, k = '','bbbbbbbb', 4\n",
        "regular_get_match(x,y,k)"
      ],
      "execution_count": 33,
      "outputs": [
        {
          "output_type": "execute_result",
          "data": {
            "text/plain": [
              "[]"
            ]
          },
          "metadata": {
            "tags": []
          },
          "execution_count": 33
        }
      ]
    },
    {
      "cell_type": "code",
      "metadata": {
        "colab_type": "code",
        "outputId": "5088e041-eaae-4ce4-c20a-8b4c6c74de0f",
        "id": "u8RDZXzl7xQb",
        "colab": {
          "base_uri": "https://localhost:8080/",
          "height": 34
        }
      },
      "source": [
        "# test 5 - the substring length is higher\n",
        "x, y, k = 'asdfgh','bbbbbbbb', 8\n",
        "regular_get_match(x,y,k)"
      ],
      "execution_count": 34,
      "outputs": [
        {
          "output_type": "execute_result",
          "data": {
            "text/plain": [
              "[]"
            ]
          },
          "metadata": {
            "tags": []
          },
          "execution_count": 34
        }
      ]
    },
    {
      "cell_type": "markdown",
      "metadata": {
        "id": "e3uJ-1yTZkpL",
        "colab_type": "text"
      },
      "source": [
        "### Testing the algorithm:"
      ]
    },
    {
      "cell_type": "code",
      "metadata": {
        "id": "7_vjcPqgRdLF",
        "colab_type": "code",
        "colab": {}
      },
      "source": [
        "import string\n",
        "import random\n",
        "\n",
        "# random word generator\n",
        "def randomword(length):\n",
        "    '''\n",
        "    Return random word of given length\n",
        "    '''\n",
        "    return ''.join(random.choice(string.ascii_lowercase) for i in range(length))\n",
        "\n",
        "# same letter word generator\n",
        "def sameletter(length):\n",
        "    '''\n",
        "    Return same letter word of given length\n",
        "    '''\n",
        "    letter = random.choice(string.ascii_lowercase)\n",
        "    return ''.join(letter for i in range(length))"
      ],
      "execution_count": 0,
      "outputs": []
    },
    {
      "cell_type": "code",
      "metadata": {
        "id": "vgQGRX9Dd5UL",
        "colab_type": "code",
        "outputId": "ee9432b6-2ff2-4046-836b-d90ea39aaebc",
        "colab": {
          "base_uri": "https://localhost:8080/",
          "height": 54
        }
      },
      "source": [
        "# Testing Random word\n",
        "x = randomword(10000)\n",
        "y = randomword(100)\n",
        "# print(x,y)\n",
        "k = 3\n",
        "match = rh_get_match(x,y,k)\n",
        "print(len(match), match )"
      ],
      "execution_count": 47,
      "outputs": [
        {
          "output_type": "stream",
          "text": [
            "57 [(932, 3), (3988, 6), (3775, 8), (5506, 9), (7030, 9), (9257, 9), (868, 10), (9779, 11), (2857, 12), (7575, 12), (7069, 13), (1243, 14), (2653, 24), (3727, 25), (7289, 27), (5670, 28), (9127, 28), (4073, 29), (5651, 29), (1015, 33), (3000, 34), (2076, 35), (3731, 36), (2170, 38), (9771, 38), (8177, 39), (6832, 41), (855, 43), (3303, 44), (7770, 49), (7771, 50), (9569, 56), (9139, 57), (7652, 59), (6505, 60), (5976, 64), (5977, 65), (8795, 65), (830, 66), (713, 70), (8915, 70), (6274, 72), (9995, 73), (7924, 78), (1246, 81), (3800, 82), (4048, 82), (5348, 82), (5349, 83), (6761, 86), (3038, 88), (5166, 88), (6920, 91), (4964, 93), (8826, 93), (5983, 94), (9319, 94)]\n"
          ],
          "name": "stdout"
        }
      ]
    },
    {
      "cell_type": "code",
      "metadata": {
        "id": "SokVgDb4Wc2-",
        "colab_type": "code",
        "colab": {
          "base_uri": "https://localhost:8080/",
          "height": 629
        },
        "outputId": "9a620a8d-8b78-473a-ef8a-7811d19f8640"
      },
      "source": [
        "## Self generating graphs for experimental complexity\n",
        "\n",
        "# to store the average time\n",
        "rolling = [[] for i in range(5)]\n",
        "regular = [[] for i in range(5)]\n",
        "\n",
        "\n",
        "\n",
        "iteration = 10\n",
        "n_list = np.array([100,200,300,400,500,600])\n",
        "k_list = np.array([10,20,30,40,50,60])\n",
        "\n",
        "for i in n_list:\n",
        "\n",
        "    for k in k_list:\n",
        "        \n",
        "        # to store the total time\n",
        "        rolling_hash_time = [0 for i in range(5)]\n",
        "        regular_hash_time = [0 for i in range(5)]\n",
        "\n",
        "        # 1 - strings from shakespear\n",
        "        for _ in range(iteration):\n",
        "            x = full_text[:i]\n",
        "            y = full_text[-1*i:]\n",
        "\n",
        "            # rolling\n",
        "            start = time.time()\n",
        "            rh_hash = rh_get_match(x,y,k)\n",
        "            end = time.time()\n",
        "            rolling_hash_time[0] += end - start\n",
        "\n",
        "            # regular\n",
        "            start = time.time()\n",
        "            regular_hash = regular_get_match(x,y,k)\n",
        "            end = time.time()\n",
        "            regular_hash_time[0] += end - start\n",
        "        \n",
        "        rolling[0].append(rolling_hash_time[0]/iteration)\n",
        "        regular[0].append(regular_hash_time[0]/iteration)\n",
        "\n",
        "\n",
        "        # 2 - random different string\n",
        "        for _ in range(iteration):\n",
        "            x = randomword(i)\n",
        "            y = randomword(i)\n",
        "\n",
        "            # rolling\n",
        "            start = time.time()\n",
        "            rh_hash = rh_get_match(x,y,k)\n",
        "            end = time.time()\n",
        "            rolling_hash_time[1] += end - start\n",
        "\n",
        "            # regular\n",
        "            start = time.time()\n",
        "            regular_hash = regular_get_match(x,y,k)\n",
        "            end = time.time()\n",
        "            regular_hash_time[1] += end - start\n",
        "\n",
        "        rolling[1].append(rolling_hash_time[1]/iteration)\n",
        "        regular[1].append(regular_hash_time[1]/iteration)\n",
        "\n",
        "\n",
        "        # 3 - same letters but different string\n",
        "        for _ in range(iteration):\n",
        "            x = sameletter(i)\n",
        "            y = sameletter(i)\n",
        "\n",
        "            # rolling\n",
        "            start = time.time()\n",
        "            rh_hash = rh_get_match(x,y,k)\n",
        "            end = time.time()\n",
        "            rolling_hash_time[2] += end - start\n",
        "\n",
        "            # regular\n",
        "            start = time.time()\n",
        "            regular_hash = regular_get_match(x,y,k)\n",
        "            end = time.time()\n",
        "            regular_hash_time[2] += end - start\n",
        "\n",
        "        rolling[2].append(rolling_hash_time[2]/iteration)\n",
        "        regular[2].append(regular_hash_time[2]/iteration)\n",
        "\n",
        "\n",
        "        # 4 - random letters but same string\n",
        "        for _ in range(iteration):\n",
        "            x = randomword(i)\n",
        "            y = x\n",
        "\n",
        "            # rolling\n",
        "            start = time.time()\n",
        "            rh_hash = rh_get_match(x,y,k)\n",
        "            end = time.time()\n",
        "            rolling_hash_time[3] += end - start\n",
        "\n",
        "            # regular\n",
        "            start = time.time()\n",
        "            regular_hash = regular_get_match(x,y,k)\n",
        "            end = time.time()\n",
        "            regular_hash_time[3] += end - start\n",
        "\n",
        "\n",
        "        rolling[3].append(rolling_hash_time[3]/iteration)\n",
        "        regular[3].append(regular_hash_time[3]/iteration)\n",
        "\n",
        "        \n",
        "        # 5 - same letters and same string\n",
        "        for _ in range(iteration):\n",
        "            x = sameletter(i)\n",
        "            y = x\n",
        "\n",
        "            # rolling\n",
        "            start = time.time()\n",
        "            rh_hash = rh_get_match(x,y,k)\n",
        "            end = time.time()\n",
        "            rolling_hash_time[4] += end - start\n",
        "\n",
        "            # regular\n",
        "            start = time.time()\n",
        "            regular_hash = regular_get_match(x,y,k)\n",
        "            end = time.time()\n",
        "            regular_hash_time[4] += end - start\n",
        "\n",
        "        rolling[4].append(rolling_hash_time[4]/iteration)\n",
        "        regular[4].append(regular_hash_time[4]/iteration)\n",
        "\n",
        "        print(i,k,'done')"
      ],
      "execution_count": 37,
      "outputs": [
        {
          "output_type": "stream",
          "text": [
            "100 10 done\n",
            "100 20 done\n",
            "100 30 done\n",
            "100 40 done\n",
            "100 50 done\n",
            "100 60 done\n",
            "200 10 done\n",
            "200 20 done\n",
            "200 30 done\n",
            "200 40 done\n",
            "200 50 done\n",
            "200 60 done\n",
            "300 10 done\n",
            "300 20 done\n",
            "300 30 done\n",
            "300 40 done\n",
            "300 50 done\n",
            "300 60 done\n",
            "400 10 done\n",
            "400 20 done\n",
            "400 30 done\n",
            "400 40 done\n",
            "400 50 done\n",
            "400 60 done\n",
            "500 10 done\n",
            "500 20 done\n",
            "500 30 done\n",
            "500 40 done\n",
            "500 50 done\n",
            "500 60 done\n",
            "600 10 done\n",
            "600 20 done\n",
            "600 30 done\n",
            "600 40 done\n",
            "600 50 done\n",
            "600 60 done\n"
          ],
          "name": "stdout"
        }
      ]
    },
    {
      "cell_type": "code",
      "metadata": {
        "id": "SLwze2fOlNWu",
        "colab_type": "code",
        "colab": {
          "base_uri": "https://localhost:8080/",
          "height": 379
        },
        "outputId": "f8af8465-fe2b-433a-edab-cfc42a16c88c"
      },
      "source": [
        "n_list = np.array([100,200,300,400,500,600])\n",
        "k_list = np.array([10,20,30,40,50,60])\n",
        "\n",
        "data = pd.DataFrame({'n_string':n_list.repeat(len(k_list)),\n",
        "                     'n_substring': np.tile(k_list, len(n_list)),\n",
        "                     'rolling_hash_shakespeare': rolling[0],\n",
        "                     'rolling_hash_random': rolling[1],\n",
        "                     'rolling_hash_same_letter': rolling[2],\n",
        "                     'rolling_hash_random_letter_same_string': rolling[3],\n",
        "                     'rolling_hash_all_same': rolling[4],\n",
        "                     'regular_hash_shakespeare': regular[0],\n",
        "                     'regular_hash_random': regular[1],\n",
        "                     'regular_hash_same_letter': regular[2],\n",
        "                     'regular_hash_random_letter_same_string': regular[3],\n",
        "                     'regular_hash_all_same': regular[4]})\n",
        "\n",
        "data.head(10)"
      ],
      "execution_count": 39,
      "outputs": [
        {
          "output_type": "execute_result",
          "data": {
            "text/html": [
              "<div>\n",
              "<style scoped>\n",
              "    .dataframe tbody tr th:only-of-type {\n",
              "        vertical-align: middle;\n",
              "    }\n",
              "\n",
              "    .dataframe tbody tr th {\n",
              "        vertical-align: top;\n",
              "    }\n",
              "\n",
              "    .dataframe thead th {\n",
              "        text-align: right;\n",
              "    }\n",
              "</style>\n",
              "<table border=\"1\" class=\"dataframe\">\n",
              "  <thead>\n",
              "    <tr style=\"text-align: right;\">\n",
              "      <th></th>\n",
              "      <th>n_string</th>\n",
              "      <th>n_substring</th>\n",
              "      <th>rolling_hash_shakespeare</th>\n",
              "      <th>rolling_hash_random</th>\n",
              "      <th>rolling_hash_same_letter</th>\n",
              "      <th>rolling_hash_random_letter_same_string</th>\n",
              "      <th>rolling_hash_all_same</th>\n",
              "      <th>regular_hash_shakespeare</th>\n",
              "      <th>regular_hash_random</th>\n",
              "      <th>regular_hash_same_letter</th>\n",
              "      <th>regular_hash_random_letter_same_string</th>\n",
              "      <th>regular_hash_all_same</th>\n",
              "    </tr>\n",
              "  </thead>\n",
              "  <tbody>\n",
              "    <tr>\n",
              "      <th>0</th>\n",
              "      <td>100</td>\n",
              "      <td>10</td>\n",
              "      <td>0.149645</td>\n",
              "      <td>1.113298</td>\n",
              "      <td>1.074814</td>\n",
              "      <td>1.098026</td>\n",
              "      <td>1.040899</td>\n",
              "      <td>0.263761</td>\n",
              "      <td>1.107779</td>\n",
              "      <td>1.072317</td>\n",
              "      <td>1.101484</td>\n",
              "      <td>1.116465</td>\n",
              "    </tr>\n",
              "    <tr>\n",
              "      <th>1</th>\n",
              "      <td>100</td>\n",
              "      <td>20</td>\n",
              "      <td>1.091336</td>\n",
              "      <td>1.067399</td>\n",
              "      <td>1.107872</td>\n",
              "      <td>1.063931</td>\n",
              "      <td>1.132684</td>\n",
              "      <td>1.094993</td>\n",
              "      <td>1.094506</td>\n",
              "      <td>1.083234</td>\n",
              "      <td>1.098153</td>\n",
              "      <td>1.036882</td>\n",
              "    </tr>\n",
              "    <tr>\n",
              "      <th>2</th>\n",
              "      <td>100</td>\n",
              "      <td>30</td>\n",
              "      <td>1.173794</td>\n",
              "      <td>1.062755</td>\n",
              "      <td>1.101663</td>\n",
              "      <td>1.068714</td>\n",
              "      <td>1.066527</td>\n",
              "      <td>1.039072</td>\n",
              "      <td>1.094028</td>\n",
              "      <td>1.077752</td>\n",
              "      <td>1.098837</td>\n",
              "      <td>1.067863</td>\n",
              "    </tr>\n",
              "    <tr>\n",
              "      <th>3</th>\n",
              "      <td>100</td>\n",
              "      <td>40</td>\n",
              "      <td>1.094339</td>\n",
              "      <td>1.062972</td>\n",
              "      <td>1.098653</td>\n",
              "      <td>1.069543</td>\n",
              "      <td>1.092551</td>\n",
              "      <td>1.078696</td>\n",
              "      <td>1.093497</td>\n",
              "      <td>1.075405</td>\n",
              "      <td>1.099593</td>\n",
              "      <td>0.951923</td>\n",
              "    </tr>\n",
              "    <tr>\n",
              "      <th>4</th>\n",
              "      <td>100</td>\n",
              "      <td>50</td>\n",
              "      <td>1.082523</td>\n",
              "      <td>1.060119</td>\n",
              "      <td>1.097650</td>\n",
              "      <td>1.061064</td>\n",
              "      <td>1.103568</td>\n",
              "      <td>1.070330</td>\n",
              "      <td>1.095225</td>\n",
              "      <td>1.073249</td>\n",
              "      <td>1.087418</td>\n",
              "      <td>1.079920</td>\n",
              "    </tr>\n",
              "    <tr>\n",
              "      <th>5</th>\n",
              "      <td>100</td>\n",
              "      <td>60</td>\n",
              "      <td>1.159142</td>\n",
              "      <td>1.082593</td>\n",
              "      <td>1.088927</td>\n",
              "      <td>1.218264</td>\n",
              "      <td>1.205882</td>\n",
              "      <td>0.986726</td>\n",
              "      <td>1.081786</td>\n",
              "      <td>1.087108</td>\n",
              "      <td>1.272400</td>\n",
              "      <td>1.089068</td>\n",
              "    </tr>\n",
              "    <tr>\n",
              "      <th>6</th>\n",
              "      <td>200</td>\n",
              "      <td>10</td>\n",
              "      <td>1.152632</td>\n",
              "      <td>1.131391</td>\n",
              "      <td>1.183857</td>\n",
              "      <td>1.135494</td>\n",
              "      <td>1.179174</td>\n",
              "      <td>1.123211</td>\n",
              "      <td>1.201992</td>\n",
              "      <td>1.150304</td>\n",
              "      <td>1.075325</td>\n",
              "      <td>1.100085</td>\n",
              "    </tr>\n",
              "    <tr>\n",
              "      <th>7</th>\n",
              "      <td>200</td>\n",
              "      <td>20</td>\n",
              "      <td>1.175330</td>\n",
              "      <td>1.104554</td>\n",
              "      <td>1.091192</td>\n",
              "      <td>1.174925</td>\n",
              "      <td>1.163650</td>\n",
              "      <td>1.125665</td>\n",
              "      <td>1.146238</td>\n",
              "      <td>1.195207</td>\n",
              "      <td>1.053647</td>\n",
              "      <td>1.083066</td>\n",
              "    </tr>\n",
              "    <tr>\n",
              "      <th>8</th>\n",
              "      <td>200</td>\n",
              "      <td>30</td>\n",
              "      <td>1.150016</td>\n",
              "      <td>1.098204</td>\n",
              "      <td>1.130791</td>\n",
              "      <td>1.150082</td>\n",
              "      <td>1.192970</td>\n",
              "      <td>1.154668</td>\n",
              "      <td>1.112805</td>\n",
              "      <td>1.151776</td>\n",
              "      <td>1.072811</td>\n",
              "      <td>1.003962</td>\n",
              "    </tr>\n",
              "    <tr>\n",
              "      <th>9</th>\n",
              "      <td>200</td>\n",
              "      <td>40</td>\n",
              "      <td>1.046148</td>\n",
              "      <td>1.101847</td>\n",
              "      <td>1.111013</td>\n",
              "      <td>1.211793</td>\n",
              "      <td>1.088340</td>\n",
              "      <td>1.226750</td>\n",
              "      <td>1.085921</td>\n",
              "      <td>1.173731</td>\n",
              "      <td>1.008559</td>\n",
              "      <td>1.152257</td>\n",
              "    </tr>\n",
              "  </tbody>\n",
              "</table>\n",
              "</div>"
            ],
            "text/plain": [
              "   n_string  ...  regular_hash_all_same\n",
              "0       100  ...               1.116465\n",
              "1       100  ...               1.036882\n",
              "2       100  ...               1.067863\n",
              "3       100  ...               0.951923\n",
              "4       100  ...               1.079920\n",
              "5       100  ...               1.089068\n",
              "6       200  ...               1.100085\n",
              "7       200  ...               1.083066\n",
              "8       200  ...               1.003962\n",
              "9       200  ...               1.152257\n",
              "\n",
              "[10 rows x 12 columns]"
            ]
          },
          "metadata": {
            "tags": []
          },
          "execution_count": 39
        }
      ]
    },
    {
      "cell_type": "code",
      "metadata": {
        "id": "oTLuWTkPaL1-",
        "colab_type": "code",
        "colab": {
          "base_uri": "https://localhost:8080/",
          "height": 575
        },
        "outputId": "cf8bcd6a-8357-45f8-ab8e-5035a58d6a18"
      },
      "source": [
        "# Strings in shakespeare \n",
        "\n",
        "# same k, but different n\n",
        "sns.lineplot(x = 'n_string', y = 'rolling_hash_shakespeare', data = data[data['n_substring'] == 40], \n",
        "             label = 'rolling', palette = 'Greens')\n",
        "sns.lineplot(x = 'n_string', y = 'regular_hash_shakespeare', data = data[data['n_substring'] == 40], \n",
        "             label = 'regular', palette = 'Blues')\n",
        "\n",
        "plt.title('Strings from Shakespeare, k = 40')\n",
        "plt.ylabel('Time (s)')\n",
        "plt.show()\n",
        "\n",
        "# same n, but different k\n",
        "sns.lineplot(x = 'n_substring', y = 'rolling_hash_shakespeare', data = data[data['n_string'] == 400], \n",
        "             label = 'rolling', palette = 'Greens')\n",
        "sns.lineplot(x = 'n_substring', y = 'regular_hash_shakespeare', data = data[data['n_string'] == 400], \n",
        "             label = 'regular', palette = 'Blues')\n",
        "\n",
        "plt.title('Strings from Shakespeare, n = 400')\n",
        "plt.ylabel('Time (s)')\n",
        "plt.show()"
      ],
      "execution_count": 40,
      "outputs": [
        {
          "output_type": "display_data",
          "data": {
            "image/png": "[encoded data removed]",
            "text/plain": [
              "<Figure size 432x288 with 1 Axes>"
            ]
          },
          "metadata": {
            "tags": [],
            "needs_background": "light"
          }
        },
        {
          "output_type": "display_data",
          "data": {
            "image/png": "[encoded data removed]",
            "text/plain": [
              "<Figure size 432x288 with 1 Axes>"
            ]
          },
          "metadata": {
            "tags": [],
            "needs_background": "light"
          }
        }
      ]
    },
    {
      "cell_type": "code",
      "metadata": {
        "colab_type": "code",
        "outputId": "74f50433-b085-4e75-ccaa-ed161cd5acd7",
        "id": "iPz6CsDFOM9G",
        "colab": {
          "base_uri": "https://localhost:8080/",
          "height": 575
        }
      },
      "source": [
        "# Random Strings \n",
        "\n",
        "# same k, but different n\n",
        "sns.lineplot(x = 'n_string', y = 'rolling_hash_random', data = data[data['n_substring'] == 40], \n",
        "             label = 'rolling')\n",
        "sns.lineplot(x = 'n_string', y = 'regular_hash_random', data = data[data['n_substring'] == 40], \n",
        "             label = 'regular')\n",
        "\n",
        "plt.title('Random Strings, k = 40')\n",
        "plt.ylabel('Time (s)')\n",
        "plt.show()\n",
        "\n",
        "# same n, but different k\n",
        "sns.lineplot(x = 'n_substring', y = 'rolling_hash_random', data = data[data['n_string'] == 400], \n",
        "             label = 'rolling')\n",
        "sns.lineplot(x = 'n_substring', y = 'regular_hash_random', data = data[data['n_string'] == 400], \n",
        "             label = 'regular')\n",
        "\n",
        "plt.title('Random Strings, n = 400')\n",
        "plt.ylabel('Time (s)')\n",
        "plt.show()"
      ],
      "execution_count": 41,
      "outputs": [
        {
          "output_type": "display_data",
          "data": {
            "image/png": "[encoded data removed]",
            "text/plain": [
              "<Figure size 432x288 with 1 Axes>"
            ]
          },
          "metadata": {
            "tags": [],
            "needs_background": "light"
          }
        },
        {
          "output_type": "display_data",
          "data": {
            "image/png": "[encoded data removed]",
            "text/plain": [
              "<Figure size 432x288 with 1 Axes>"
            ]
          },
          "metadata": {
            "tags": [],
            "needs_background": "light"
          }
        }
      ]
    },
    {
      "cell_type": "code",
      "metadata": {
        "colab_type": "code",
        "outputId": "80dc988b-0420-4782-89f0-fb23b368dc8d",
        "id": "aHN1rs2uOM9R",
        "colab": {
          "base_uri": "https://localhost:8080/",
          "height": 575
        }
      },
      "source": [
        "# Same letter different Strings \n",
        "\n",
        "# same k, but different n\n",
        "sns.lineplot(x = 'n_string', y = 'rolling_hash_same_letter', data = data[data['n_substring'] == 40], \n",
        "             label = 'rolling')\n",
        "sns.lineplot(x = 'n_string', y = 'regular_hash_same_letter', data = data[data['n_substring'] == 40], \n",
        "             label = 'regular')\n",
        "\n",
        "plt.title('Same Letter but Different Strings, k = 40')\n",
        "plt.ylabel('Time (s)')\n",
        "plt.show()\n",
        "\n",
        "# same n, but different k\n",
        "sns.lineplot(x = 'n_substring', y = 'rolling_hash_same_letter', data = data[data['n_string'] == 400], \n",
        "             label = 'rolling')\n",
        "sns.lineplot(x = 'n_substring', y = 'regular_hash_same_letter', data = data[data['n_string'] == 400], \n",
        "             label = 'regular')\n",
        "\n",
        "plt.title('Same Letter but Different Strings, n = 400')\n",
        "plt.ylabel('Time (s)')\n",
        "plt.show()"
      ],
      "execution_count": 42,
      "outputs": [
        {
          "output_type": "display_data",
          "data": {
            "image/png": "[encoded data removed]",
            "text/plain": [
              "<Figure size 432x288 with 1 Axes>"
            ]
          },
          "metadata": {
            "tags": [],
            "needs_background": "light"
          }
        },
        {
          "output_type": "display_data",
          "data": {
            "image/png": "[encoded data removed]",
            "text/plain": [
              "<Figure size 432x288 with 1 Axes>"
            ]
          },
          "metadata": {
            "tags": [],
            "needs_background": "light"
          }
        }
      ]
    },
    {
      "cell_type": "code",
      "metadata": {
        "id": "F66L68wcNI2L",
        "colab_type": "code",
        "colab": {
          "base_uri": "https://localhost:8080/",
          "height": 575
        },
        "outputId": "dacf2dcf-fda8-4ca5-cf59-828def261910"
      },
      "source": [
        "# Random Letter but Same Strings\n",
        "\n",
        "# same k, but different n\n",
        "sns.lineplot(x = 'n_string', y = 'rolling_hash_random_letter_same_string', data = data[data['n_substring'] == 40], \n",
        "             label = 'rolling', palette = 'Greens')\n",
        "sns.lineplot(x = 'n_string', y = 'regular_hash_random_letter_same_string', data = data[data['n_substring'] == 40], \n",
        "             label = 'regular')\n",
        "\n",
        "plt.title('Random Letter but Same Strings, k = 40')\n",
        "plt.ylabel('Time (s)')\n",
        "plt.show()\n",
        "\n",
        "# same n, but different k\n",
        "sns.lineplot(x = 'n_substring', y = 'rolling_hash_random_letter_same_string', data = data[data['n_string'] == 400], \n",
        "             label = 'rolling', palette = 'Greens')\n",
        "sns.lineplot(x = 'n_substring', y = 'regular_hash_random_letter_same_string', data = data[data['n_string'] == 400], \n",
        "             label = 'regular')\n",
        "\n",
        "plt.title('Random Letter but Same Strings, n = 400')\n",
        "plt.ylabel('Time (s)')\n",
        "plt.show()"
      ],
      "execution_count": 43,
      "outputs": [
        {
          "output_type": "display_data",
          "data": {
            "image/png": "[encoded data removed]",
            "text/plain": [
              "<Figure size 432x288 with 1 Axes>"
            ]
          },
          "metadata": {
            "tags": [],
            "needs_background": "light"
          }
        },
        {
          "output_type": "display_data",
          "data": {
            "image/png": "[encoded data removed]",
            "text/plain": [
              "<Figure size 432x288 with 1 Axes>"
            ]
          },
          "metadata": {
            "tags": [],
            "needs_background": "light"
          }
        }
      ]
    },
    {
      "cell_type": "code",
      "metadata": {
        "colab_type": "code",
        "outputId": "8a82fa22-54bb-41ea-d21c-b1dc274a6ed7",
        "id": "ACSdI582OOB1",
        "colab": {
          "base_uri": "https://localhost:8080/",
          "height": 575
        }
      },
      "source": [
        "# Same Letter Same Stringss \n",
        "\n",
        "# same k, but different n\n",
        "sns.lineplot(x = 'n_string', y = 'rolling_hash_all_same', data = data[data['n_substring'] == 40], \n",
        "             label = 'rolling', palette = 'Greens')\n",
        "sns.lineplot(x = 'n_string', y = 'regular_hash_all_same', data = data[data['n_substring'] == 40], \n",
        "             label = 'regular')\n",
        "\n",
        "plt.title('Same Letter Same String, k = 40')\n",
        "plt.ylabel('Time (s)')\n",
        "plt.show()\n",
        "\n",
        "# same n, but different k\n",
        "sns.lineplot(x = 'n_substring', y = 'rolling_hash_all_same', data = data[data['n_string'] == 400], \n",
        "             label = 'rolling', palette = 'Greens')\n",
        "sns.lineplot(x = 'n_substring', y = 'regular_hash_all_same', data = data[data['n_string'] == 400], \n",
        "             label = 'regular')\n",
        "\n",
        "plt.title('Same Letter Same String, n = 400')\n",
        "plt.ylabel('Time (s)')\n",
        "plt.show()"
      ],
      "execution_count": 46,
      "outputs": [
        {
          "output_type": "display_data",
          "data": {
            "image/png": "[encoded data removed]",
            "text/plain": [
              "<Figure size 432x288 with 1 Axes>"
            ]
          },
          "metadata": {
            "tags": [],
            "needs_background": "light"
          }
        },
        {
          "output_type": "display_data",
          "data": {
            "image/png": "[encoded data removed]",
            "text/plain": [
              "<Figure size 432x288 with 1 Axes>"
            ]
          },
          "metadata": {
            "tags": [],
            "needs_background": "light"
          }
        }
      ]
    },
    {
      "cell_type": "code",
      "metadata": {
        "id": "iwr-CRxkaZjs",
        "colab_type": "code",
        "colab": {}
      },
      "source": [
        "data.to_csv('hashing_data_2.csv')"
      ],
      "execution_count": 0,
      "outputs": []
    },
    {
      "cell_type": "code",
      "metadata": {
        "id": "Tz4G0SzSdJr6",
        "colab_type": "code",
        "colab": {}
      },
      "source": [
        ""
      ],
      "execution_count": 0,
      "outputs": []
    }
  ]
}