{
  "nbformat": 4,
  "nbformat_minor": 0,
  "metadata": {
    "colab": {
      "name": "IL_181_Neural Network.ipynb",
      "provenance": [],
      "collapsed_sections": []
    },
    "kernelspec": {
      "name": "python3",
      "display_name": "Python 3"
    },
    "language_info": {
      "name": "python"
    }
  },
  "cells": [
    {
      "cell_type": "markdown",
      "source": [
        "## Brief Summary"
      ],
      "metadata": {
        "id": "XGKcmWR4YpdB"
      }
    },
    {
      "cell_type": "markdown",
      "source": [
        "In this paper, I implemented a feed forward neural network using only numpy. Different activation functions have their own classes, where the forward and backward method implements the feedforward and backpropagation step. Similarly as an output of the final layer, we have separate class for Softmax operation. Another class is designed for maintaining the linear hidden layers. \n",
        "\n",
        "In the final model class, we can choose the type and structure of the hidden layers, activation functions between the hidden layers and the final output for the final layers. In addition we also need to provide the cost function which will be used to generate loss for backpropagation. \n",
        "\n",
        "I used MNIST dataset to classify the digit image. This is a classification problem, so we used softmax function at the final layer which will produce a probability for each of the output layer neuron. For primary investigation, we used a network of 2 hidden layers with 128 and 64 neurons. Just by changing the layers attribute of the model class, we can easily modify our network structures. We used Leaky ReLU as activation function as they do not suffer from the vanishing gradient (like sigmoid) or dead neuron (like ReLU) problem. Similarly to avoid vanishing gradient problem, we used He weight initialization. Multi-class cross entropy is used as the loss function. Our model is capable to use the L2 regularization and dropout. Similarly it is designed to incorporate SGD, Nesterov Momentum, RMSProp and Adam optimizer.\n",
        "\n",
        "Backpropagation starts from the cost function, then it follows backward to the Softmax, hidden layers and activation function. So other than the cost function, every backward method takes the input of the gradient wrt the next layer and outputs the gradient wrt the previous layer.\n",
        "\n",
        "In primary investigation with only SGD and a learning rate of 0.5, the model completed 10 epoch in 5 min with a validation loss of 0.13.  "
      ],
      "metadata": {
        "id": "vsxHdOET_50e"
      }
    },
    {
      "cell_type": "markdown",
      "source": [
        "### Export Data"
      ],
      "metadata": {
        "id": "lETI270iIxAt"
      }
    },
    {
      "cell_type": "code",
      "source": [
        "from sklearn.datasets import fetch_openml\n",
        "import numpy as np\n",
        "from sklearn.model_selection import train_test_split\n",
        "import time\n",
        "import matplotlib.pyplot as plt\n"
      ],
      "metadata": {
        "id": "T1A6LvRCI0ck"
      },
      "execution_count": 1,
      "outputs": []
    },
    {
      "cell_type": "code",
      "source": [
        "x_orig, y_orig = fetch_openml('mnist_784', version=1, return_X_y=True)\n"
      ],
      "metadata": {
        "id": "ffse_RWs7Hkb"
      },
      "execution_count": 2,
      "outputs": []
    },
    {
      "cell_type": "code",
      "source": [
        "inputs = np.array((x_orig/255).astype('float32'))\n",
        "y = np.array(y_orig, dtype = 'int')\n",
        "targets = np.eye(10)[y]"
      ],
      "metadata": {
        "id": "K2M6k_WGI0ck"
      },
      "execution_count": 3,
      "outputs": []
    },
    {
      "cell_type": "markdown",
      "source": [
        "### Activation Functions"
      ],
      "metadata": {
        "id": "-BFMjY5o8UuC"
      }
    },
    {
      "cell_type": "code",
      "source": [
        "class Sigmoid():\n",
        "    def forward(self, x):\n",
        "        self.sigmoid = 1. / (1 + np.exp(-x))\n",
        "        return self.sigmoid\n",
        "\n",
        "    def backward(self, gradient):\n",
        "        return self.sigmoid * (1 - self.sigmoid) * gradient\n",
        "\n",
        "class ReLU():\n",
        "    def forward(self, x):\n",
        "        self.x = x\n",
        "        return (x>0)*1\n",
        "    \n",
        "    def backward(self, gradient):\n",
        "        return (self.x > 0) * gradient\n",
        "\n",
        "class LeakyReLU():\n",
        "    def __init__(self, alpha = 0.01):\n",
        "        self.alpha = alpha\n",
        "        \n",
        "    def forward(self, x):\n",
        "        self.x = x\n",
        "        return (x>0)*x + (x<0)*self.alpha*x\n",
        "    \n",
        "    def backward(self, gradient):\n",
        "        return ( (self.x>0) + (self.x<0)*self.alpha ) * gradient"
      ],
      "metadata": {
        "id": "YG2oINY08TTp"
      },
      "execution_count": 42,
      "outputs": []
    },
    {
      "cell_type": "markdown",
      "source": [
        ""
      ],
      "metadata": {
        "id": "nv_4-vvpI6MC"
      }
    },
    {
      "cell_type": "markdown",
      "source": [
        "### Output Layer"
      ],
      "metadata": {
        "id": "aKodo0uMBM6D"
      }
    },
    {
      "cell_type": "code",
      "source": [
        "class Softmax():\n",
        "    def forward(self, x):\n",
        "        exps = np.exp(x - x.max())\n",
        "        self.output = exps / np.sum(exps, axis = 1)[:,None]\n",
        "        return self.output\n",
        "\n",
        "    def backward(self, gradient):\n",
        "        return self.output * (gradient - \n",
        "                              (gradient * self.output).sum(axis=1)[:,None] )\n"
      ],
      "metadata": {
        "id": "Jt07MykOBMVq"
      },
      "execution_count": 5,
      "outputs": []
    },
    {
      "cell_type": "markdown",
      "source": [
        "### Loss Function"
      ],
      "metadata": {
        "id": "xvq1gx4OGWJJ"
      }
    },
    {
      "cell_type": "code",
      "source": [
        "class CrossEntropy():\n",
        "    def forward(self, y_pred, y_true):\n",
        "        self.y_pred = y_pred\n",
        "        self.y_true = y_true\n",
        "        return np.sum(-1. * y_true * np.log(y_pred)) / y_pred.shape[0]\n",
        "\n",
        "    def backward(self):\n",
        "        return -1. * self.y_true / self.y_pred"
      ],
      "metadata": {
        "id": "gVuSXDFDGXqk"
      },
      "execution_count": 6,
      "outputs": []
    },
    {
      "cell_type": "markdown",
      "source": [
        "### Linear Layers"
      ],
      "metadata": {
        "id": "MHEg6LxKHNWE"
      }
    },
    {
      "cell_type": "code",
      "source": [
        "(np.random.rand(5) < 0.5) * np.array([1,2,3,4,5])"
      ],
      "metadata": {
        "colab": {
          "base_uri": "https://localhost:8080/"
        },
        "id": "dkqgiK4qJ8bt",
        "outputId": "b709b9a9-c8fe-4139-a721-3f8db53761aa"
      },
      "execution_count": 21,
      "outputs": [
        {
          "output_type": "execute_result",
          "data": {
            "text/plain": [
              "array([1, 2, 0, 4, 0])"
            ]
          },
          "metadata": {},
          "execution_count": 21
        }
      ]
    },
    {
      "cell_type": "code",
      "source": [
        "class Linear():\n",
        "    def __init__(self, n_input, n_output, dropout_p = 0):\n",
        "        # He weight initialization as default activation is ReLU\n",
        "        self.Ws = np.random.randn(n_input, n_output) * np.sqrt(2/n_input)\n",
        "        self.bs = np.zeros(n_output)\n",
        "        # parameters for momentum optimizer\n",
        "        self.vw = np.zeros((n_input, n_output))\n",
        "        self.vb = np.zeros(n_output)\n",
        "        # parameters for RMSprop optimizer\n",
        "        self.grad_sq_w = np.zeros((n_input, n_output))\n",
        "        self.grad_sq_b = np.zeros(n_output)\n",
        "        # parameters for adam optimizer\n",
        "        self.moment_1_w = np.zeros((n_input, n_output))\n",
        "        self.moment_2_w = np.zeros((n_input, n_output))\n",
        "        self.moment_1_b = np.zeros(n_output)\n",
        "        self.moment_2_b = np.zeros(n_output)\n",
        "        self.dropout_p = dropout_p # dropout probability\n",
        "    \n",
        "    def forward(self, x):\n",
        "        self.x = x\n",
        "        # dropout layer: 0 means it will be dropped away\n",
        "        dropout_layer = np.random.rand(len(self.bs)) > self.dropout_p\n",
        "        return (np.dot(x, self.Ws) + self.bs) * dropout_layer\n",
        "\n",
        "    def backward(self, gradient):\n",
        "        self.grad_b = gradient.mean(axis=0)\n",
        "        self.grad_W = (self.x[:,:,None] @ gradient[:,None,:]).mean(axis=0)\n",
        "        return np.dot(gradient, self.Ws.transpose())"
      ],
      "metadata": {
        "id": "WQcfYozzHRj5"
      },
      "execution_count": 23,
      "outputs": []
    },
    {
      "cell_type": "markdown",
      "source": [
        "### Full Model"
      ],
      "metadata": {
        "id": "KPLR0FDILDyi"
      }
    },
    {
      "cell_type": "code",
      "source": [
        "class Model():\n",
        "    def __init__(self, layers, cost_func, n_epoch=10, lr=0.01, \n",
        "                 reg_lambda=0, beta = 0, decay_rate = 0,\n",
        "                 beta1 = 0, beta2 = 0, dropout_p = 0):\n",
        "        self.layers = layers\n",
        "        self.cost = cost_func\n",
        "        self.n_epoch = n_epoch\n",
        "        self.lr = lr # learning rate\n",
        "        self.beta = beta # momentum parameter\n",
        "        self.reg_lambda = reg_lambda # regularization parameter\n",
        "        self.decay_rate = decay_rate # rmsprop decay parameter\n",
        "        # Adam moment parameter\n",
        "        self.beta1 = beta1\n",
        "        self.beta2 = beta2\n",
        "        self.dropout_p = dropout_p # dropout probability\n",
        "\n",
        "    def forward(self, x):\n",
        "        for layer in self.layers:\n",
        "            if type(layer) == Linear:\n",
        "                layer.dropout_p = self.dropout_p\n",
        "            x = layer.forward(x)\n",
        "        return x\n",
        "\n",
        "    def loss(self, input, y_true):\n",
        "        y_pred = self.forward(input)\n",
        "        return self.cost.forward(y_pred, y_true)\n",
        "\n",
        "    def backward(self):\n",
        "        gradient = self.cost.backward()\n",
        "        n_layer = len(self.layers)\n",
        "        for i in range(n_layer-1, -1, -1):\n",
        "            gradient = self.layers[i].backward(gradient)\n",
        "\n",
        "    def make_minibatch(self, x_data, y_data, mb_size):\n",
        "        minibatch_data = [(x_data[i:i+mb_size], y_data[i:i+mb_size]) \\\n",
        "                for i in range(0, len(x_data), mb_size)]\n",
        "        return minibatch_data\n",
        "\n",
        "    def train(self, features, targets, mb_size, test_size = 0.20,\n",
        "              optimizer = 'nesterov'):\n",
        "        x_train, x_val, y_train, y_val = train_test_split(features, targets, test_size=test_size, \n",
        "                                                          random_state=42)\n",
        "        minibatch_data = self.make_minibatch(x_train, y_train, mb_size)\n",
        "        self.train_loss = []\n",
        "        self.test_loss = []\n",
        "        for epoch in range(self.n_epoch):\n",
        "            current_loss = 0\n",
        "            n_batch = len(minibatch_data)\n",
        "            for minibatch in minibatch_data:\n",
        "                inputs, labels = minibatch\n",
        "                current_loss += self.loss(inputs, labels)\n",
        "                self.backward()\n",
        "                # paramter updates\n",
        "                for layer in self.layers:\n",
        "                    if type(layer) == Linear:\n",
        "                        if optimizer == 'nesterov':\n",
        "                            self.nesterov_momentum(layer)\n",
        "                        elif optimizer == 'rmsprop':\n",
        "                            self.rmsprop(layer)\n",
        "                        elif optimizer == 'adam':\n",
        "                            self.adam(layer, epoch)\n",
        "            self.train_loss.append(current_loss/n_batch)\n",
        "            self.test_loss.append(self.loss(x_val, y_val))\n",
        "            if (epoch+1) % 5 == 0:\n",
        "                print(f'Epoch {epoch+1}/{self.n_epoch}: loss = {self.train_loss[epoch]}')\n",
        "\n",
        "    def loss_curve(self):\n",
        "        plt.plot(range(1, self.n_epoch+1), self.train_loss, label = 'train')\n",
        "        plt.plot(range(1, self.n_epoch+1), self.test_loss, label = 'test')\n",
        "        plt.legend()\n",
        "        plt.xlabel('Epoch')\n",
        "        plt.ylabel('Cross Entropy Loss')\n",
        "        plt.title('Loss Curve')\n",
        "\n",
        "    def nesterov_momentum(self, layer):\n",
        "        '''\n",
        "        for beta = 0, it becomes a normal SGD\n",
        "        for reg_alpha = 0, there will be no regularization\n",
        "        '''\n",
        "        vw_old = layer.vw\n",
        "        # velocity update with regularization (weight decay)\n",
        "        layer.vw = self.beta * vw_old - self.lr * layer.grad_W \\\n",
        "                    - self.lr * self.reg_lambda * layer.Ws\n",
        "        # position Update\n",
        "        layer.Ws += (1+self.beta) * layer.vw - self.beta * vw_old\n",
        "        \n",
        "        vb_old = layer.vb\n",
        "        # velocity update \n",
        "        layer.vb = self.beta * vb_old - self.lr * layer.grad_b\n",
        "        # position Update\n",
        "        layer.bs += (1+self.beta) * layer.vb - self.beta * vb_old\n",
        "                \n",
        "    def rmsprop(self, layer):\n",
        "        layer.grad_sq_w = self.decay_rate * layer.grad_sq_w \\\n",
        "                + (1 - self.decay_rate) * layer.grad_W**2\n",
        "        layer.Ws += - self.lr * layer.grad_W / (np.sqrt(layer.grad_sq_w) + 1e-7)\n",
        "\n",
        "        layer.grad_sq_b = self.decay_rate * layer.grad_sq_b \\\n",
        "                + (1 - self.decay_rate) * layer.grad_b**2\n",
        "        layer.bs -= self.lr * layer.grad_b / (np.sqrt(layer.grad_sq_b) + 1e-7)\n",
        "\n",
        "    def adam(self, layer, epoch):\n",
        "        # moment update\n",
        "        layer.moment_1_w = self.beta1 * layer.moment_1_w \\\n",
        "                + (1 - self.beta1) * layer.grad_W\n",
        "        layer.moment_2_w = self.beta2 * layer.moment_2_w \\\n",
        "                + (1 - self.beta2) * layer.grad_W**2\n",
        "        # bias correction\n",
        "        unbias_moment_1_w = layer.moment_1_w / (1 - self.beta1 ** (epoch+1))\n",
        "        unbias_moment_2_w = layer.moment_2_w / (1 - self.beta2 ** (epoch+1))\n",
        "        # update parameter\n",
        "        layer.Ws -= self.lr * unbias_moment_1_w / (np.sqrt(unbias_moment_2_w) + 1e-7)\n",
        "\n",
        "        # moment update\n",
        "        layer.moment_1_b = self.beta1 * layer.moment_1_b \\\n",
        "                + (1 - self.beta1) * layer.grad_b\n",
        "        layer.moment_2_b = self.beta2 * layer.moment_2_b \\\n",
        "                + (1 - self.beta2) * layer.grad_b**2\n",
        "        # bias correction\n",
        "        unbias_moment_1_b = layer.moment_1_b / (1 - self.beta1 ** (epoch+1))\n",
        "        unbias_moment_2_b = layer.moment_2_b / (1 - self.beta2 ** (epoch+1))\n",
        "        # update parameter\n",
        "        layer.bs -= self.lr * unbias_moment_1_b / (np.sqrt(unbias_moment_2_b) + 1e-7)    \n"
      ],
      "metadata": {
        "id": "GaE8IMyWLCvE"
      },
      "execution_count": 24,
      "outputs": []
    },
    {
      "cell_type": "markdown",
      "source": [
        "## Testing Working Model"
      ],
      "metadata": {
        "id": "OSL7l2_pSf4A"
      }
    },
    {
      "cell_type": "markdown",
      "source": [
        "### SGD"
      ],
      "metadata": {
        "id": "NHqXEdBXSmYU"
      }
    },
    {
      "cell_type": "code",
      "source": [
        "model = Model([Linear(784,128), LeakyReLU(), Linear(128,64), LeakyReLU(), Linear(64,10), Softmax()], CrossEntropy())\n",
        "\n",
        "model.n_epoch = 1\n",
        "model.lr = 0.1\n",
        "model.reg_lambda = 0\n",
        "\n",
        "mb_size = 50\n",
        "model.train(inputs, targets, mb_size, \n",
        "            optimizer='nesterov')"
      ],
      "metadata": {
        "id": "si0eCNgTNq-V"
      },
      "execution_count": 43,
      "outputs": []
    },
    {
      "cell_type": "code",
      "source": [
        "model.n_epoch = 1\n",
        "model.test_loss[-1], model.train_loss[-1]"
      ],
      "metadata": {
        "colab": {
          "base_uri": "https://localhost:8080/"
        },
        "id": "j94wM_-DWw2s",
        "outputId": "940dc115-0778-4fda-f572-994efdafc76b"
      },
      "execution_count": 47,
      "outputs": [
        {
          "output_type": "execute_result",
          "data": {
            "text/plain": [
              "(0.18076048213141493, 0.3187320765505537)"
            ]
          },
          "metadata": {},
          "execution_count": 47
        }
      ]
    },
    {
      "cell_type": "code",
      "source": [
        "# we will use test dataset for the unbiased evaluation of the final model \n",
        "x_train, x_test, y_train, y_test = train_test_split(inputs, targets, test_size=0.20, \n",
        "                                                          random_state=42)"
      ],
      "metadata": {
        "id": "fat3RRovWYRo"
      },
      "execution_count": 51,
      "outputs": []
    },
    {
      "cell_type": "code",
      "source": [
        "# random search 1-fold cross_validation\n",
        "n_iterations = 10\n",
        "validation_loss  = []\n",
        "lr_s = []\n",
        "for _ in range(n_iterations):\n",
        "    model = Model([Linear(784,128), LeakyReLU(), Linear(128,64), LeakyReLU(), \n",
        "                   Linear(64,10), Softmax()], CrossEntropy())\n",
        "    model.lr = 10**np.random.uniform(-6,1)\n",
        "    model.n_epoch = 2\n",
        "    mb_size = 50\n",
        "    model.train(x_train, y_train, mb_size, \n",
        "                optimizer='nesterov')\n",
        "    validation_loss.append(model.test_loss[-1])\n",
        "    lr_s.append(model.lr)\n"
      ],
      "metadata": {
        "id": "0XHOlJvDSanU"
      },
      "execution_count": 59,
      "outputs": []
    },
    {
      "cell_type": "code",
      "source": [
        "plt.plot(lr_s, validation_loss,'.')"
      ],
      "metadata": {
        "colab": {
          "base_uri": "https://localhost:8080/",
          "height": 285
        },
        "id": "cib7YE1hXuUS",
        "outputId": "893c95df-70d2-4290-f3c2-53577f6fdd8d"
      },
      "execution_count": 64,
      "outputs": [
        {
          "output_type": "execute_result",
          "data": {
            "text/plain": [
              "[<matplotlib.lines.Line2D at 0x7f464def8510>]"
            ]
          },
          "metadata": {},
          "execution_count": 64
        },
        {
          "output_type": "display_data",
          "data": {
            "image/png": "[encoded data removed]",
            "text/plain": [
              "<Figure size 432x288 with 1 Axes>"
            ]
          },
          "metadata": {
            "needs_background": "light"
          }
        }
      ]
    },
    {
      "cell_type": "code",
      "source": [
        "model = Model([Linear(784,128), LeakyReLU(), Linear(128,64), LeakyReLU(), \n",
        "                Linear(64,10), Softmax()], CrossEntropy())\n",
        "model.lr = 0.5\n",
        "model.n_epoch = 10\n",
        "mb_size = 50\n",
        "model.train(x_train, y_train, mb_size, \n",
        "            optimizer='nesterov')\n",
        "model.loss_curve()"
      ],
      "metadata": {
        "colab": {
          "base_uri": "https://localhost:8080/",
          "height": 330
        },
        "id": "m3MI8ezvbelT",
        "outputId": "834e77e8-0729-47d3-e674-69de0297bbcd"
      },
      "execution_count": 65,
      "outputs": [
        {
          "output_type": "stream",
          "name": "stdout",
          "text": [
            "Epoch 5/10: loss = 0.05425715980876315\n",
            "Epoch 10/10: loss = 0.02961947304835689\n"
          ]
        },
        {
          "output_type": "display_data",
          "data": {
            "image/png": "[encoded data removed]",
            "text/plain": [
              "<Figure size 432x288 with 1 Axes>"
            ]
          },
          "metadata": {
            "needs_background": "light"
          }
        }
      ]
    },
    {
      "cell_type": "code",
      "source": [
        "model.train_loss[-1], model.test_loss[-1]"
      ],
      "metadata": {
        "colab": {
          "base_uri": "https://localhost:8080/"
        },
        "id": "OUtmCxTieBVq",
        "outputId": "1f61c303-b9a5-4351-9ddc-6a9855ef1510"
      },
      "execution_count": 66,
      "outputs": [
        {
          "output_type": "execute_result",
          "data": {
            "text/plain": [
              "(0.02961947304835689, 0.13130076481722563)"
            ]
          },
          "metadata": {},
          "execution_count": 66
        }
      ]
    },
    {
      "cell_type": "markdown",
      "source": [
        "### SGD + Momentum"
      ],
      "metadata": {
        "id": "ROc2J87AS0NV"
      }
    },
    {
      "cell_type": "code",
      "source": [
        "model = Model([Linear(784,128), ReLU(), Linear(128,64), ReLU(), Linear(64,10), Softmax()], CrossEntropy())\n",
        "\n",
        "model.n_epoch = 50\n",
        "model.lr = 0.2\n",
        "model.reg_lambda = 0\n",
        "model.beta = 0.9\n",
        "\n",
        "mb_size = 50\n",
        "model.train(inputs[:1000], targets[:1000], mb_size, \n",
        "            optimizer='nesterov')"
      ],
      "metadata": {
        "colab": {
          "base_uri": "https://localhost:8080/",
          "height": 0
        },
        "outputId": "a762eea6-b3fe-4ede-9323-acd85e8695ba",
        "id": "hg6PHQsgS0NV"
      },
      "execution_count": 77,
      "outputs": [
        {
          "output_type": "stream",
          "name": "stdout",
          "text": [
            "Epoch 5/50: loss = 1.1517014898087208\n",
            "Epoch 10/50: loss = 1.00662743040652\n",
            "Epoch 15/50: loss = 0.9443916198321197\n",
            "Epoch 20/50: loss = 1.0084874563668824\n",
            "Epoch 25/50: loss = 0.9643326139300877\n",
            "Epoch 30/50: loss = 1.0130861220831628\n",
            "Epoch 35/50: loss = 1.0398071627464067\n",
            "Epoch 40/50: loss = 0.980003936129946\n",
            "Epoch 45/50: loss = 1.0596051365987094\n",
            "Epoch 50/50: loss = 1.0330920507013976\n"
          ]
        }
      ]
    },
    {
      "cell_type": "code",
      "source": [
        "model.loss_curve()"
      ],
      "metadata": {
        "colab": {
          "base_uri": "https://localhost:8080/",
          "height": 295
        },
        "outputId": "4f389f2b-de86-435a-e9c6-1ebffcafafba",
        "id": "t7KLwzvrS0NW"
      },
      "execution_count": 78,
      "outputs": [
        {
          "output_type": "display_data",
          "data": {
            "image/png": "[encoded data removed]",
            "text/plain": [
              "<Figure size 432x288 with 1 Axes>"
            ]
          },
          "metadata": {
            "needs_background": "light"
          }
        }
      ]
    },
    {
      "cell_type": "markdown",
      "source": [
        "### RMSprop"
      ],
      "metadata": {
        "id": "4bby3D07TKoV"
      }
    },
    {
      "cell_type": "code",
      "source": [
        "model = Model([Linear(784,128), ReLU(), Linear(128,64), ReLU(), Linear(64,10), Softmax()], CrossEntropy())\n",
        "\n",
        "model.n_epoch = 50\n",
        "model.lr = 0.1\n",
        "\n",
        "model.decay_rate = 0.99\n",
        "mb_size = 50\n",
        "model.train(inputs[:1000], targets[:1000], mb_size, \n",
        "            optimizer='rmsprop')"
      ],
      "metadata": {
        "colab": {
          "base_uri": "https://localhost:8080/",
          "height": 0
        },
        "outputId": "a8547108-5102-4902-90b0-758332d688ea",
        "id": "i1_sBRuLTKoW"
      },
      "execution_count": 84,
      "outputs": [
        {
          "output_type": "stream",
          "name": "stdout",
          "text": [
            "Epoch 5/50: loss = 2.182079555828885\n",
            "Epoch 10/50: loss = 2.1988231122133968\n",
            "Epoch 15/50: loss = 2.1985008803422024\n",
            "Epoch 20/50: loss = 2.194965930453911\n",
            "Epoch 25/50: loss = 2.2040840284984777\n",
            "Epoch 30/50: loss = 2.201275018452942\n",
            "Epoch 35/50: loss = 2.1953194477842866\n",
            "Epoch 40/50: loss = 2.1929040052329642\n",
            "Epoch 45/50: loss = 2.186529289103248\n",
            "Epoch 50/50: loss = 2.161922242154096\n"
          ]
        }
      ]
    },
    {
      "cell_type": "code",
      "source": [
        "model.loss_curve()"
      ],
      "metadata": {
        "colab": {
          "base_uri": "https://localhost:8080/",
          "height": 295
        },
        "outputId": "0f568565-3fcb-4ee7-85a7-0b16f0f21695",
        "id": "ivm2Som4TKoW"
      },
      "execution_count": 85,
      "outputs": [
        {
          "output_type": "display_data",
          "data": {
            "image/png": "[encoded data removed]",
            "text/plain": [
              "<Figure size 432x288 with 1 Axes>"
            ]
          },
          "metadata": {
            "needs_background": "light"
          }
        }
      ]
    },
    {
      "cell_type": "markdown",
      "source": [
        "### Adam"
      ],
      "metadata": {
        "id": "Urjec_sgTVrp"
      }
    },
    {
      "cell_type": "code",
      "source": [
        "model = Model([Linear(784,128), ReLU(), Linear(128,64), ReLU(), Linear(64,10), Softmax()], CrossEntropy())\n",
        "\n",
        "model.n_epoch = 50\n",
        "model.lr = 0.1\n",
        "\n",
        "model.beta1 = 0.9\n",
        "model.beta2 = 0.999\n",
        "\n",
        "mb_size = 50\n",
        "model.train(inputs[:1000], targets[:1000], mb_size, \n",
        "            optimizer='adam')"
      ],
      "metadata": {
        "colab": {
          "base_uri": "https://localhost:8080/",
          "height": 0
        },
        "outputId": "db274400-f7e9-4666-efc7-22f2cc293d7c",
        "id": "8nyRixR8TVrq"
      },
      "execution_count": 86,
      "outputs": [
        {
          "output_type": "stream",
          "name": "stdout",
          "text": [
            "Epoch 5/50: loss = 1.6021393644126982\n",
            "Epoch 10/50: loss = 1.5985715699298186\n",
            "Epoch 15/50: loss = 1.5624256906820824\n",
            "Epoch 20/50: loss = 1.593509593272557\n",
            "Epoch 25/50: loss = 1.5915735457146003\n",
            "Epoch 30/50: loss = 1.608829267389039\n",
            "Epoch 35/50: loss = 1.62321705817252\n",
            "Epoch 40/50: loss = 1.6164474601976628\n",
            "Epoch 45/50: loss = 1.6298084917409386\n",
            "Epoch 50/50: loss = 1.5982098766245372\n"
          ]
        }
      ]
    },
    {
      "cell_type": "code",
      "source": [
        "model.loss_curve()"
      ],
      "metadata": {
        "colab": {
          "base_uri": "https://localhost:8080/",
          "height": 295
        },
        "outputId": "e1237c70-433d-45f4-ece5-538f22a55f12",
        "id": "LtDuz4qqTVrq"
      },
      "execution_count": 87,
      "outputs": [
        {
          "output_type": "display_data",
          "data": {
            "image/png": "[encoded data removed]",
            "text/plain": [
              "<Figure size 432x288 with 1 Axes>"
            ]
          },
          "metadata": {
            "needs_background": "light"
          }
        }
      ]
    },
    {
      "cell_type": "code",
      "source": [
        "for layer in model.layers:\n",
        "    if type(layer) == Linear:\n",
        "        plt.hist(layer.Ws)\n",
        "        plt.show()"
      ],
      "metadata": {
        "colab": {
          "base_uri": "https://localhost:8080/",
          "height": 762
        },
        "id": "cyETWe2N7oiF",
        "outputId": "7f765576-bb27-4dc6-d611-cec41b2bc006"
      },
      "execution_count": 88,
      "outputs": [
        {
          "output_type": "display_data",
          "data": {
            "image/png": "[encoded data removed]",
            "text/plain": [
              "<Figure size 432x288 with 1 Axes>"
            ]
          },
          "metadata": {
            "needs_background": "light"
          }
        },
        {
          "output_type": "display_data",
          "data": {
            "image/png": "[encoded data removed]",
            "text/plain": [
              "<Figure size 432x288 with 1 Axes>"
            ]
          },
          "metadata": {
            "needs_background": "light"
          }
        },
        {
          "output_type": "display_data",
          "data": {
            "image/png": "[encoded data removed]",
            "text/plain": [
              "<Figure size 432x288 with 1 Axes>"
            ]
          },
          "metadata": {
            "needs_background": "light"
          }
        }
      ]
    },
    {
      "cell_type": "code",
      "source": [
        ""
      ],
      "metadata": {
        "id": "GMS1be0dUBIN"
      },
      "execution_count": null,
      "outputs": []
    }
  ]
}